{
  "cells": [
    {
      "cell_type": "markdown",
      "source": [
        "# Instalação"
      ],
      "metadata": {
        "id": "E-JnH8fUOvUa"
      },
      "id": "E-JnH8fUOvUa"
    },
    {
      "cell_type": "code",
      "source": [
        "!pip install xcompact3d-toolbox"
      ],
      "metadata": {
        "id": "1wVov82YOyW_"
      },
      "id": "1wVov82YOyW_",
      "execution_count": null,
      "outputs": []
    },
    {
      "cell_type": "markdown",
      "id": "0",
      "metadata": {
        "id": "0"
      },
      "source": [
        "# Lendo e salvando arquivos"
      ]
    },
    {
      "cell_type": "markdown",
      "id": "1",
      "metadata": {
        "id": "1"
      },
      "source": [
        "Esse tutorial apresenta diferentes formas com que se pode carregar arquivos binários do disco, após rodar uma simulação com [XCompact3d](https://github.com/xcompact3d/Incompact3d). Além disso, são apresentados algumas opções para salvar resultados de pós-processamento."
      ]
    },
    {
      "cell_type": "markdown",
      "id": "2",
      "metadata": {
        "tags": [],
        "id": "2"
      },
      "source": [
        "## Preparação"
      ]
    },
    {
      "cell_type": "markdown",
      "id": "3",
      "metadata": {
        "id": "3"
      },
      "source": [
        "Aqui se prepara o banco de dados para esse notebook, para que possa ser reproduzido na máquina local ou na nuvem.\n",
        "\n",
        "O primeiro passo é para importar as bibliotecas para esse notebook."
      ]
    },
    {
      "cell_type": "code",
      "execution_count": 1,
      "id": "4",
      "metadata": {
        "id": "4"
      },
      "outputs": [],
      "source": [
        "import warnings\n",
        "\n",
        "import numpy as np\n",
        "import xarray as xr\n",
        "\n",
        "import xcompact3d_toolbox as x3d"
      ]
    },
    {
      "cell_type": "markdown",
      "id": "5",
      "metadata": {
        "id": "5"
      },
      "source": [
        "Será utilizado como exemplo o escoamento ao redor de um cilindro como [banco de dados](https://github.com/fschuch/xcompact3d_toolbox_data).\n",
        "Definindo `cache=True` pode-se definir um local para salvar os dados no seu computador, `cache_dir=\"./example/\"`."
      ]
    },
    {
      "cell_type": "code",
      "execution_count": 2,
      "id": "6",
      "metadata": {
        "id": "6"
      },
      "outputs": [],
      "source": [
        "cylinder_ds, prm = x3d.tutorial.open_dataset(\"cylinder\", cache=True, cache_dir=\"./example/\")"
      ]
    },
    {
      "cell_type": "markdown",
      "id": "7",
      "metadata": {
        "id": "7"
      },
      "source": [
        "Nesse momento é bom verificar as informações do banco de dados."
      ]
    },
    {
      "cell_type": "code",
      "execution_count": null,
      "id": "8",
      "metadata": {
        "id": "8"
      },
      "outputs": [],
      "source": [
        "cylinder_ds.info()"
      ]
    },
    {
      "cell_type": "markdown",
      "id": "9",
      "metadata": {
        "id": "9"
      },
      "source": [
        "Os dados são organizados em um [xarray.Dataset](http://docs.xarray.dev/en/stable/generated/xarray.Dataset.html#xarray.Dataset) com as variáveis `u` (campo de velocidade), `pp` (pressão) e `epsi` (descrição da geométria), suas coordenadas (`x`, `y`, `t` e `i`) e alguns atributos como a versão do Xcompact3d e a `url` onde pode-se encontrar o banco de dados.\n",
        "\n",
        "No próximo bloco se configura a toolbox e alguns atributos do banco de dados, para que se possa salvar todos os arquivos binários no disco. Os comandos a baixo seram descritos melhor adiante."
      ]
    },
    {
      "cell_type": "code",
      "execution_count": null,
      "id": "10",
      "metadata": {
        "id": "10"
      },
      "outputs": [],
      "source": [
        "x3d.param[\"mytype\"] = np.float32\n",
        "\n",
        "prm.dataset.set(data_path=\"./data/\", drop_coords=\"z\")\n",
        "\n",
        "cylinder_ds.u.attrs[\"file_name\"] = \"u\"\n",
        "cylinder_ds.pp.attrs[\"file_name\"] = \"pp\"\n",
        "cylinder_ds.epsi.attrs[\"file_name\"] = \"epsilon\"\n",
        "\n",
        "prm.write(\"input.i3d\")\n",
        "\n",
        "prm.dataset.write(cylinder_ds)\n",
        "\n",
        "prm.dataset.write_xdmf(\"xy-planes.xdmf\")\n",
        "\n",
        "del cylinder_ds, prm"
      ]
    },
    {
      "cell_type": "markdown",
      "id": "11",
      "metadata": {
        "id": "11"
      },
      "source": [
        "Após essas linhas de código os arquivos são organizados dessa forma:"
      ]
    },
    {
      "cell_type": "markdown",
      "id": "12",
      "metadata": {
        "id": "12"
      },
      "source": [
        "```\n",
        "tutorial\n",
        "│   computing_and_plotting.ipynb\n",
        "│   io.ipynb\n",
        "│   input.i3d\n",
        "│   parameters.ipynb\n",
        "│   xy-planes.xdmf\n",
        "│\n",
        "└─── data\n",
        "│       │   epsilon.bin\n",
        "│       │   pp-000.bin\n",
        "│       │   pp-001.bin\n",
        "│       │   ...\n",
        "│       │   pp-199.bin\n",
        "│       │   pp-200.bin\n",
        "│       │   ux-000.bin\n",
        "│       │   ux-001.bin\n",
        "│       │   ...\n",
        "│       │   ux-199.bin\n",
        "│       │   ux-200.bin\n",
        "│       │   uy-000.bin\n",
        "│       │   uy-001.bin\n",
        "│       │   ...\n",
        "│       │   uy-199.bin\n",
        "│       │   uy-200.bin\n",
        "│       │   uz-000.bin\n",
        "│       │   uz-001.bin\n",
        "│       │   ...\n",
        "│       │   uz-199.bin\n",
        "│       │   uz-200.bin\n",
        "│\n",
        "└─── example\n",
        "│       │   cylinder.nc\n",
        "```"
      ]
    },
    {
      "cell_type": "markdown",
      "id": "13",
      "metadata": {
        "id": "13"
      },
      "source": [
        "É bem próximo o que é gerado após rodar a simulação."
      ]
    },
    {
      "cell_type": "markdown",
      "id": "14",
      "metadata": {
        "id": "14"
      },
      "source": [
        "## Por que xarray?\n",
        "\n",
        "As estruturas de dados são providas por [xarray](http://docs.xarray.dev/en/stable/index.html), que atribui rótulos de dimensão, coordenadas e atributos sob NumPy arrays. E utiliza [dask](https://dask.org/) para computação paralela.\n",
        "O objetivo é acelerar o desenvolvimento e customização do pós-processamento.\n",
        "\n",
        "Adicionamente, xcompact3d-toolbox prove funcionalidades para [DataArray](https://docs.fschuch.com/xcompact3d_toolbox/references/api-reference.html#xcompact3d_toolbox.array.X3dDataArray) e [Dataset](https://docs.fschuch.com/xcompact3d_toolbox/references/api-reference.html#xcompact3d_toolbox.array.X3dDataset).\n",
        "\n",
        "Mais detalhes da biblioteca [xarray](http://docs.xarray.dev/en/stable/index.html) estão disponíveis em [Overview: Why xarray?](http://docs.xarray.dev/en/stable/getting-started-guide/why-xarray.html) e [Quick overview](http://docs.xarray.dev/en/stable/getting-started-guide/quick-overview.html)."
      ]
    },
    {
      "cell_type": "markdown",
      "id": "15",
      "metadata": {
        "id": "15"
      },
      "source": [
        "## Objetos xarray sobre demanda"
      ]
    },
    {
      "cell_type": "markdown",
      "id": "16",
      "metadata": {
        "id": "16"
      },
      "source": [
        "Como primeiro etapa do pós-processamento, se carrega o arquivo com os parâmetros da simulação."
      ]
    },
    {
      "cell_type": "code",
      "execution_count": 5,
      "id": "17",
      "metadata": {
        "id": "17"
      },
      "outputs": [],
      "source": [
        "prm = x3d.Parameters(loadfile=\"input.i3d\")"
      ]
    },
    {
      "cell_type": "markdown",
      "id": "19",
      "metadata": {
        "id": "19"
      },
      "source": [
        "Para salvar espaço no disco, o banco de dados foi convertido de precisão dupla para precisão simples, isso pode ser feito com:"
      ]
    },
    {
      "cell_type": "code",
      "execution_count": 6,
      "id": "20",
      "metadata": {
        "id": "20"
      },
      "outputs": [],
      "source": [
        "x3d.param[\"mytype\"] = np.float32"
      ]
    },
    {
      "cell_type": "markdown",
      "id": "21",
      "metadata": {
        "id": "21"
      },
      "source": [
        "A ferramenta permite ler arquivos com diferentes extensões. Para mais detalhes acesse [filename properties](https://xcompact3d-toolbox.readthedocs.io/en/stable/references/api-reference.html#xcompact3d_toolbox.io.FilenameProperties). Para carregar o banco de dados baixado, pode-se confirgurar a ferramenta com o comando a baixo:"
      ]
    },
    {
      "cell_type": "code",
      "execution_count": 7,
      "id": "22",
      "metadata": {
        "id": "22"
      },
      "outputs": [],
      "source": [
        "prm.dataset.filename_properties.set(\n",
        "    separator=\"-\",\n",
        "    file_extension=\".bin\",\n",
        "    number_of_digits=3,\n",
        ")"
      ]
    },
    {
      "cell_type": "markdown",
      "id": "23",
      "metadata": {
        "id": "23"
      },
      "source": [
        "Agora se especifica os parâmetros do banco de dados, como a localização do arquivo, se alguma coordenada pode ser ignorada (`drop_coords` permite excluir uma coordenada, como exemplo, excluir a coordenada `z` para trabalhar com o plano `xy`), o número de passos de tempo `snapshot_counting` e o tamnho do passo de tempo`snapshot_step`. Para mais detalhes acesse a documentação do módulo [dataset](https://xcompact3d-toolbox.readthedocs.io/en/stable/references/api-reference.html#xcompact3d_toolbox.io.Dataset).\n",
        "Para esse exemplo se define os seguintes parâmetros:"
      ]
    },
    {
      "cell_type": "code",
      "execution_count": 8,
      "id": "24",
      "metadata": {
        "id": "24"
      },
      "outputs": [],
      "source": [
        "prm.dataset.set(\n",
        "    data_path=\"./data/\",\n",
        "    drop_coords=\"z\",\n",
        "    snapshot_counting=\"ilast\",\n",
        "    snapshot_step=\"ioutput\",\n",
        ")"
      ]
    },
    {
      "cell_type": "markdown",
      "id": "26",
      "metadata": {
        "id": "26"
      },
      "source": [
        "Pode-se checar o [tamanho do banco de dados](https://xcompact3d-toolbox.readthedocs.io/en/stable/references/api-reference.html#xcompact3d_toolbox.io.Dataset.__len__) com:"
      ]
    },
    {
      "cell_type": "code",
      "execution_count": null,
      "id": "27",
      "metadata": {
        "id": "27"
      },
      "outputs": [],
      "source": [
        "len(prm.dataset)"
      ]
    },
    {
      "cell_type": "markdown",
      "id": "28",
      "metadata": {
        "id": "28"
      },
      "source": [
        "Isso significa que há 201 snapshots indo de 0 (i.g., `ux-000.bin`) a 200 (i.g., `ux-200.bin`)."
      ]
    },
    {
      "cell_type": "markdown",
      "id": "29",
      "metadata": {
        "id": "29"
      },
      "source": [
        "Pode-se carregar um arquivo binário com:"
      ]
    },
    {
      "cell_type": "code",
      "execution_count": 10,
      "id": "30",
      "metadata": {
        "id": "30"
      },
      "outputs": [],
      "source": [
        "epsilon = prm.dataset.load_array(\"./data/epsilon.bin\", add_time=False)"
      ]
    },
    {
      "cell_type": "markdown",
      "id": "31",
      "metadata": {
        "id": "31"
      },
      "source": [
        "Observe que [load_array](https://xcompact3d-toolbox.readthedocs.io/en/stable/references/api-reference.html#xcompact3d_toolbox.io.Dataset.load_array) necessita o caminho completo e se usa `add_time=False` porque esse array não envolve tempo.\n",
        "\n",
        "Pode-se visualizar na tela:"
      ]
    },
    {
      "cell_type": "code",
      "execution_count": null,
      "id": "32",
      "metadata": {
        "id": "32"
      },
      "outputs": [],
      "source": [
        "epsilon"
      ]
    },
    {
      "cell_type": "markdown",
      "id": "33",
      "metadata": {
        "id": "33"
      },
      "source": [
        "Fazendo a mesma coisa, agora para o campo de velocidade na direção x, `ux`, e usando `add_time=True`:"
      ]
    },
    {
      "cell_type": "code",
      "execution_count": 12,
      "id": "34",
      "metadata": {
        "id": "34"
      },
      "outputs": [],
      "source": [
        "ux = prm.dataset.load_array(\"./data/ux-100.bin\", add_time=True)"
      ]
    },
    {
      "cell_type": "markdown",
      "id": "35",
      "metadata": {
        "id": "35"
      },
      "source": [
        "Agora `t` é uma coordenada e seu valor adimensional é automaticamente calculado como `75.0`:"
      ]
    },
    {
      "cell_type": "code",
      "execution_count": null,
      "id": "36",
      "metadata": {
        "id": "36"
      },
      "outputs": [],
      "source": [
        "ux"
      ]
    },
    {
      "cell_type": "markdown",
      "id": "37",
      "metadata": {
        "id": "37"
      },
      "source": [
        "Também pode-se carregar a [serie temporal](https://xcompact3d-toolbox.readthedocs.io/en/stable/references/api-reference.html#xcompact3d_toolbox.io.Dataset.load_time_series) completa para uma variável, se houver espaço suficiente na memória, ou simplesmente por:"
      ]
    },
    {
      "cell_type": "code",
      "execution_count": null,
      "id": "38",
      "metadata": {
        "id": "38"
      },
      "outputs": [],
      "source": [
        "ux = prm.dataset[\"ux\"]"
      ]
    },
    {
      "cell_type": "markdown",
      "id": "39",
      "metadata": {
        "id": "39"
      },
      "source": [
        "Pode-se visualizar o banco de dados na tela com:"
      ]
    },
    {
      "cell_type": "code",
      "execution_count": null,
      "id": "40",
      "metadata": {
        "id": "40"
      },
      "outputs": [],
      "source": [
        "ux"
      ]
    },
    {
      "cell_type": "markdown",
      "id": "41",
      "metadata": {
        "id": "41"
      },
      "source": [
        "Pode-se carregar cada array em uma variável diferente:"
      ]
    },
    {
      "cell_type": "code",
      "execution_count": null,
      "id": "42",
      "metadata": {
        "id": "42"
      },
      "outputs": [],
      "source": [
        "ux = prm.dataset[\"ux\"]\n",
        "uy = prm.dataset[\"uy\"]\n",
        "pp = prm.dataset[\"pp\"]"
      ]
    },
    {
      "cell_type": "markdown",
      "id": "43",
      "metadata": {
        "id": "43"
      },
      "source": [
        "Ou organizar vários arrays em um banco de dados:"
      ]
    },
    {
      "cell_type": "code",
      "execution_count": null,
      "id": "44",
      "metadata": {
        "id": "44"
      },
      "outputs": [],
      "source": [
        "# create an empty dataset\n",
        "ds = xr.Dataset()\n",
        "\n",
        "# populate it\n",
        "for var in [\"ux\", \"uy\", \"pp\"]:\n",
        "    ds[var] = prm.dataset[var]\n",
        "\n",
        "# show on the screen\n",
        "ds"
      ]
    },
    {
      "cell_type": "markdown",
      "id": "45",
      "metadata": {
        "id": "45"
      },
      "source": [
        "A mesma solução pode ser escrita em uma única linha de código:\n",
        "\n",
        "```python\n",
        "ds = xr.Dataset({var: prm.dataset[var] for var in \"ux uy pp\".split()})\n",
        "```"
      ]
    },
    {
      "cell_type": "markdown",
      "id": "46",
      "metadata": {
        "id": "46"
      },
      "source": [
        "É possível carregar todas as variáveis de um único snapshot com [load_snapshot](https://xcompact3d-toolbox.readthedocs.io/en/stable/references/api-reference.html#xcompact3d_toolbox.io.Dataset.load_snapshot) ou:"
      ]
    },
    {
      "cell_type": "code",
      "execution_count": 18,
      "id": "47",
      "metadata": {
        "id": "47"
      },
      "outputs": [],
      "source": [
        "snapshot = prm.dataset[100]"
      ]
    },
    {
      "cell_type": "markdown",
      "id": "48",
      "metadata": {
        "id": "48"
      },
      "source": [
        "Se obtém um [xarray.Dataset](http://docs.xarray.dev/en/stable/generated/xarray.Dataset.html#xarray.Dataset) com todas as variáveis com as suas coordenadas. Cada variável pode ser acessada individualmente com a notação por ponto (i.g., `snapshot.pp`, `snapshot.ux`, `snapshot.uy`) ou por colchete (i.g., `snapshot[\"pp\"]`, `snapshot[\"ux\"]`, `snapshot[\"uy\"]`)."
      ]
    },
    {
      "cell_type": "code",
      "execution_count": null,
      "id": "49",
      "metadata": {
        "id": "49"
      },
      "outputs": [],
      "source": [
        "snapshot"
      ]
    },
    {
      "cell_type": "markdown",
      "id": "50",
      "metadata": {
        "id": "50"
      },
      "source": [
        "Pode-se usar um [slice](https://docs.python.org/3/library/functions.html#slice) para selecionar uma seção do banco de dados para calcular a [média temporal](http://docs.xarray.dev/en/stable/generated/xarray.Dataset.mean.html):"
      ]
    },
    {
      "cell_type": "code",
      "execution_count": null,
      "id": "51",
      "metadata": {
        "id": "51"
      },
      "outputs": [],
      "source": [
        "time_averaged = prm.dataset[-100:].mean(\"t\")\n",
        "time_averaged"
      ]
    },
    {
      "cell_type": "markdown",
      "id": "52",
      "metadata": {
        "id": "52"
      },
      "source": [
        "Também pode-se carregar todos o snapshots com a seguinte notação:"
      ]
    },
    {
      "cell_type": "code",
      "execution_count": null,
      "id": "53",
      "metadata": {
        "id": "53"
      },
      "outputs": [],
      "source": [
        "prm.dataset[:]"
      ]
    },
    {
      "cell_type": "markdown",
      "id": "54",
      "metadata": {
        "id": "54"
      },
      "source": [
        "Para o caso que não aja memória suficiente para carregar toda simulação, pode-se iterar sobre todos os snapshots, um por um:"
      ]
    },
    {
      "cell_type": "code",
      "execution_count": 22,
      "id": "55",
      "metadata": {
        "id": "55"
      },
      "outputs": [],
      "source": [
        "for ds in prm.dataset:\n",
        "    # Calcular a vorticidade como exemplo\n",
        "    vort = ds.uy.x3d.first_derivative(\"x\") - ds.ux.x3d.first_derivative(\"y\")"
      ]
    },
    {
      "cell_type": "markdown",
      "id": "56",
      "metadata": {
        "id": "56"
      },
      "source": [
        "Outra opção viável é usar `reversed(prm.dataset)` para iterar na ordem inversa."
      ]
    },
    {
      "cell_type": "markdown",
      "id": "57",
      "metadata": {
        "id": "57"
      },
      "source": [
        "Também pode-se selecionar um intervalo de snapshots carregados, um por um:"
      ]
    },
    {
      "cell_type": "code",
      "execution_count": 23,
      "id": "58",
      "metadata": {
        "id": "58"
      },
      "outputs": [],
      "source": [
        "for ds in prm.dataset(100, 200, 1):\n",
        "    # Calcular a vorticidade como exemplo\n",
        "    vort = ds.uy.x3d.first_derivative(\"x\") - ds.ux.x3d.first_derivative(\"y\")"
      ]
    },
    {
      "cell_type": "code",
      "execution_count": null,
      "id": "59",
      "metadata": {
        "id": "59"
      },
      "outputs": [],
      "source": [
        "# Resultado para última interação\n",
        "vort"
      ]
    },
    {
      "cell_type": "markdown",
      "id": "60",
      "metadata": {
        "id": "60"
      },
      "source": [
        "## Salvando resultados em um arquivo binário"
      ]
    },
    {
      "cell_type": "markdown",
      "id": "61",
      "metadata": {
        "id": "61"
      },
      "source": [
        "No último exemplo, foi calculado a vorticidade do escoamento, porém os dados foram perdidos ao final do loop. Para salvar o resultado poderia-se escrever os dados no disco usando [write](https://docs.fschuch.com/xcompact3d_toolbox/references/api-reference.html#xcompact3d_toolbox.io.Dataset.write)."
      ]
    },
    {
      "cell_type": "code",
      "execution_count": 25,
      "id": "62",
      "metadata": {
        "id": "62"
      },
      "outputs": [],
      "source": [
        "for ds in prm.dataset:\n",
        "    vort = ds.uy.x3d.first_derivative(\"x\") - ds.ux.x3d.first_derivative(\"y\")\n",
        "    prm.dataset.write(data=vort, file_prefix=\"w3\")"
      ]
    },
    {
      "cell_type": "markdown",
      "id": "63",
      "metadata": {
        "id": "63"
      },
      "source": [
        "O exemplo acima utiliza [xarray.DataArray](http://docs.xarray.dev/en/stable/generated/xarray.DataArray.html#xarray.DataArray).  Pode-se fazer uma implementação equivalente com [xarray.Dataset](http://docs.xarray.dev/en/stable/generated/xarray.Dataset.html#xarray.Dataset). Todavia, a uma diferença importante, apenas os arrays com o atributo chamado `file_name` serão salvos. Isso é feito para evitar que os arquivos originais de (`ux`, `uy`, `uz`, ...) fossem reescritos por acidente.\n",
        "\n",
        "Reescrevendo o exemplo anterior para salvar `vort` no banco de dados `ds`. Definindo um atributo `file_name` para `w3`, os arrays serão salvos como `w3-000.bin`, `w3-001.bin`, `w3-002.bin`, etc.\n",
        "\n",
        "Warnings serão suprimidos já que a aplicação irá alertar que `pp`, `ux` e `uy` não serão salvos por não ter um `file_name`. Porém, não é esse o objetivo."
      ]
    },
    {
      "cell_type": "code",
      "execution_count": 26,
      "id": "64",
      "metadata": {
        "tags": [],
        "id": "64"
      },
      "outputs": [],
      "source": [
        "with warnings.catch_warnings():\n",
        "    warnings.filterwarnings(\"ignore\", category=UserWarning)\n",
        "    for ds in prm.dataset:\n",
        "        ds[\"vort\"] = ds.uy.x3d.first_derivative(\"x\") - ds.ux.x3d.first_derivative(\"y\")\n",
        "        ds[\"vort\"].attrs[\"file_name\"] = \"w3\"\n",
        "        prm.dataset.write(ds)"
      ]
    },
    {
      "cell_type": "markdown",
      "id": "65",
      "metadata": {
        "id": "65"
      },
      "source": [
        "O método [prm.dataset.write()](https://xcompact3d-toolbox.readthedocs.io/en/stable/references/api-reference.html#xcompact3d_toolbox.io.Dataset.write) salva os arquivos binários da mesma forma que [XCompact3d](https://github.com/xcompact3d/Incompact3d) faria. Isso permite que o arquivo seja carregado pelo solver numérico e também pode-se processá-lo com qualquer outra ferramenta já usada com o Xcompact3d."
      ]
    },
    {
      "cell_type": "markdown",
      "id": "66",
      "metadata": {
        "id": "66"
      },
      "source": [
        "Como exemplo, carregando snapshot 0, `w3` é carregado também:"
      ]
    },
    {
      "cell_type": "code",
      "execution_count": null,
      "id": "67",
      "metadata": {
        "id": "67"
      },
      "outputs": [],
      "source": [
        "prm.dataset[0]"
      ]
    },
    {
      "cell_type": "markdown",
      "id": "68",
      "metadata": {
        "id": "68"
      },
      "source": [
        "### Atualizando o arquivo xdmf"
      ]
    },
    {
      "cell_type": "markdown",
      "id": "69",
      "metadata": {
        "id": "69"
      },
      "source": [
        "Após computar e salvar os novos resultados no disco, para que se possa ser salvo em qualquer ferramenta externa, como ParaView. Para atualizar o arquivo xdmf com a vorticidade `w3`, pode-se usar a linha de código:"
      ]
    },
    {
      "cell_type": "code",
      "execution_count": null,
      "id": "70",
      "metadata": {
        "id": "70"
      },
      "outputs": [],
      "source": [
        "prm.dataset.write_xdmf(\"xy-planes.xdmf\")"
      ]
    },
    {
      "cell_type": "markdown",
      "id": "71",
      "metadata": {
        "id": "71"
      },
      "source": [
        "## Outros formatos"
      ]
    },
    {
      "cell_type": "markdown",
      "id": "72",
      "metadata": {
        "id": "72"
      },
      "source": [
        "Objetos xarray podem ser exportados para outros formatos dependendo da necessidade.\n",
        "\n",
        "Por exemplo, [xarray.DataArray](http://docs.xarray.dev/en/stable/generated/xarray.DataArray.html#xarray.DataArray) e [xarray.Dataset](http://docs.xarray.dev/en/stable/generated/xarray.Dataset.html#xarray.Dataset) pode ser salva com [netCDF](http://docs.xarray.dev/en/stable/user-guide/io.html). Dessa forma mantendo as dimensões, coordenadas e atributos.\n",
        "\n",
        "Só para ter uma estimativa sobre o espaço ocupado no disco, o tamanho do banco de dados `cylinder.nc` baixado para esse tutorial é 75.8 MB. O tamanho da pasta `./data/` depois de gerar osa arquivos binários da mesma forma que [XCompact3d](https://github.com/xcompact3d/Incompact3d) deve ser 75.7 MB."
      ]
    },
    {
      "cell_type": "markdown",
      "id": "73",
      "metadata": {
        "id": "73"
      },
      "source": [
        "Como exemplo de uso do formato netCDF, toma-se um snapshot:"
      ]
    },
    {
      "cell_type": "code",
      "execution_count": null,
      "id": "74",
      "metadata": {
        "id": "74"
      },
      "outputs": [],
      "source": [
        "snapshot = prm.dataset[0]\n",
        "snapshot"
      ]
    },
    {
      "cell_type": "markdown",
      "id": "75",
      "metadata": {
        "id": "75"
      },
      "source": [
        "Pode-se adicionar informações extras para quem acessar esse banco de dados. Atributos podem ser incluidos para cada array, coordenada e atributos globais para o banco de dados. Eles são salvos em um dicionário.\n",
        "\n",
        "Veja exemplo:"
      ]
    },
    {
      "cell_type": "code",
      "execution_count": 30,
      "id": "76",
      "metadata": {
        "id": "76"
      },
      "outputs": [],
      "source": [
        "# Definindo o atributo para cada coordenada\n",
        "snapshot.x.attrs = {\"name\": \"x\", \"long_name\": \"Stream-wise coordinate\", \"units\": \"-\"}\n",
        "snapshot.y.attrs = {\"name\": \"y\", \"long_name\": \"Vertical coordinate\", \"units\": \"-\"}\n",
        "snapshot.t.attrs = {\"name\": \"t\", \"long_name\": \"Time\", \"units\": \"-\"}\n",
        "\n",
        "# Definindo o atributo para cada array\n",
        "snapshot.ux.attrs = {\"name\": \"ux\", \"long_name\": \"Stream-wise velocity\", \"units\": \"-\"}\n",
        "snapshot.uy.attrs = {\"name\": \"y\", \"long_name\": \"Vertical velocity\", \"units\": \"-\"}\n",
        "snapshot.pp.attrs = {\"name\": \"p\", \"long_name\": \"Pressure\", \"units\": \"-\"}\n",
        "snapshot.w3.attrs = {\"name\": \"w3\", \"long_name\": \"Vorticity\", \"units\": \"-\"}\n",
        "\n",
        "# Definindo os atributos para o banco de dados\n",
        "snapshot.attrs = {\n",
        "    \"title\": \"An example from the tutorials\",\n",
        "    \"url\": \"https://docs.fschuch.com/xcompact3d_toolbox/tutorial/io.html\",\n",
        "    \"authors\": \"List of names\",\n",
        "    \"doi\": \"maybe a fancy doi from zenodo\",\n",
        "}"
      ]
    },
    {
      "cell_type": "markdown",
      "id": "80",
      "metadata": {
        "id": "80"
      },
      "source": [
        "Exportado como arquivo netCDF:"
      ]
    },
    {
      "cell_type": "code",
      "execution_count": 31,
      "id": "81",
      "metadata": {
        "id": "81"
      },
      "outputs": [],
      "source": [
        "snapshot.to_netcdf(\"snapshot-000.nc\")"
      ]
    },
    {
      "cell_type": "markdown",
      "id": "82",
      "metadata": {
        "id": "82"
      },
      "source": [
        "Importando o arquivo netCDF:"
      ]
    },
    {
      "cell_type": "code",
      "execution_count": 32,
      "id": "83",
      "metadata": {
        "id": "83"
      },
      "outputs": [],
      "source": [
        "snapshot_in = xr.open_dataset(\"snapshot-000.nc\")"
      ]
    },
    {
      "cell_type": "markdown",
      "id": "84",
      "metadata": {
        "id": "84"
      },
      "source": [
        "Observe o resultado, mantém todas as dimensões, coordenadas e atributos:"
      ]
    },
    {
      "cell_type": "code",
      "execution_count": null,
      "id": "85",
      "metadata": {
        "id": "85"
      },
      "outputs": [],
      "source": [
        "snapshot_in"
      ]
    },
    {
      "cell_type": "markdown",
      "id": "86",
      "metadata": {
        "id": "86"
      },
      "source": [
        "Pode-se comparar os dois banco de dados para verificar se os dados, dimensões e coordenadas são as mesmas:"
      ]
    },
    {
      "cell_type": "code",
      "execution_count": 34,
      "id": "87",
      "metadata": {
        "id": "87"
      },
      "outputs": [],
      "source": [
        "xr.testing.assert_equal(snapshot, snapshot_in)"
      ]
    },
    {
      "cell_type": "markdown",
      "id": "88",
      "metadata": {
        "id": "88"
      },
      "source": [
        "Xarray é desenvolvido sobre Numpy, o objeto `numpy.ndarray`  pode ser acessado com a propriedade `values` (i.g., `epsilon.values`). É compatível com `numpy.save` e outros métodos disponibilizados do ecosistema Numpy/SciPy (Não seja necessário usar explicitamente `.values`). COmo no exemplo:"
      ]
    },
    {
      "cell_type": "code",
      "execution_count": null,
      "id": "89",
      "metadata": {
        "id": "89"
      },
      "outputs": [],
      "source": [
        "np.save(\"epsi.npy\", epsilon)\n",
        "epsi_in = np.load(\"epsi.npy\")\n",
        "\n",
        "print(type(epsi_in))\n",
        "epsi_in"
      ]
    },
    {
      "cell_type": "markdown",
      "id": "90",
      "metadata": {
        "id": "90"
      },
      "source": [
        "Pode ser usado com ferramentas de pós-processamento previo."
      ]
    },
    {
      "cell_type": "markdown",
      "id": "91",
      "metadata": {
        "id": "91"
      },
      "source": [
        "Se o tamanho do banco de dados for reduzido com os métodos [integrate](https://docs.xarray.dev/en/stablegenerated/xarray.Dataset.integrate.html), [mean](https://docs.xarray.dev/en/stablegenerated/xarray.Dataset.mean.html), ou [sel](https://docs.xarray.dev/en/stablegenerated/xarray.Dataset.sel.html) em um subconjuntos de dados, pode converte-lo para [pandas.Dataframe](https://pandas.pydata.org/docs/reference/api/pandas.DataFrame.html) e exportá-lo CSV, Excel, etc."
      ]
    },
    {
      "cell_type": "markdown",
      "id": "92",
      "metadata": {
        "id": "92"
      },
      "source": [
        "Como exemplo, selecionou-se um perfil vertical para todas as variáveis onde `x = 20` e [converte-la em um dataframe](https://docs.xarray.dev/en/stable/generated/xarray.Dataset.to_dataframe.html):"
      ]
    },
    {
      "cell_type": "code",
      "execution_count": null,
      "id": "94",
      "metadata": {
        "id": "94"
      },
      "outputs": [],
      "source": [
        "snapshot_in.sel(x=20.0).to_dataframe()"
      ]
    },
    {
      "cell_type": "markdown",
      "id": "95",
      "metadata": {
        "id": "95"
      },
      "source": [
        "Para mais informações acesse [documentação do pandas](https://pandas.pydata.org/pandas-docs/stable/index.html) para mais detalhes."
      ]
    }
  ],
  "metadata": {
    "interpreter": {
      "hash": "546d5beeb22119d9a20f6c19239ae627cc2b69f70be285d1d696980c89f3c939"
    },
    "kernelspec": {
      "display_name": "Python 3.9.5 64-bit ('idp': conda)",
      "name": "python3"
    },
    "language_info": {
      "codemirror_mode": {
        "name": "ipython",
        "version": 3
      },
      "file_extension": ".py",
      "mimetype": "text/x-python",
      "name": "python",
      "nbconvert_exporter": "python",
      "pygments_lexer": "ipython3",
      "version": "3.9.5"
    },
    "colab": {
      "provenance": []
    }
  },
  "nbformat": 4,
  "nbformat_minor": 5
}