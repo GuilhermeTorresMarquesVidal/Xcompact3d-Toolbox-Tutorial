{
  "cells": [
    {
      "cell_type": "markdown",
      "source": [
        "# Instalação"
      ],
      "metadata": {
        "id": "BVtAR2q7kZ9x"
      }
    },
    {
      "cell_type": "code",
      "source": [
        "#!pip install xcompact3d_toolbox"
      ],
      "metadata": {
        "id": "XcgSJW3VjL73"
      },
      "execution_count": null,
      "outputs": []
    },
    {
      "cell_type": "markdown",
      "source": [
        "# Parâmetros\n",
        "\n",
        "Os parâmetros físicos e computacionais são herdados por [xcompact3d_toolbox.Parameters](https://docs.fschuch.com/xcompact3d_toolbox/references/api-reference.html#xcompact3d_toolbox.parameters.Parameters). É programado sobre [Traitlets](https://traitlets.readthedocs.io/en/stable/index.html) o que permite que os parâmetros sejam compatíveis com XCompact3d which aims to make the parameters compatible with what XCompact3d. Além disso, a biblioteca oferece:\n",
        "\n",
        "* Verificação por tipo;\n",
        "* Valores padrão, restrições e dependências entre parâmetros são aplicados quando necessários;\n",
        "* Controles interativos com [ipywidgets](https://ipywidgets.readthedocs.io/en/latest/)."
      ],
      "metadata": {
        "id": "QNeSiLkLflvy"
      }
    },
    {
      "cell_type": "code",
      "execution_count": null,
      "metadata": {
        "id": "rbJNqtczfHb4"
      },
      "outputs": [],
      "source": [
        "import numpy as np\n",
        "\n",
        "import xcompact3d_toolbox as x3d"
      ]
    },
    {
      "cell_type": "markdown",
      "source": [
        "Primeiro defini-se a precisão numérica. Verifique no Makefile qual a precisão que o Xcompact3d foi copilado, use `np.float64` se `-DDOUBLE_PREC` foi utilizado, `np.float32` para os demais."
      ],
      "metadata": {
        "id": "4NDwnX3bld4Z"
      }
    },
    {
      "cell_type": "code",
      "execution_count": null,
      "metadata": {
        "id": "JDQfRCtUfHb8"
      },
      "outputs": [],
      "source": [
        "x3d.param[\"mytype\"] = np.float32"
      ]
    },
    {
      "cell_type": "markdown",
      "metadata": {
        "id": "Grw7BNH-fHb9"
      },
      "source": [
        "## Inicialização"
      ]
    },
    {
      "cell_type": "markdown",
      "metadata": {
        "id": "IL5mbI0PfHb_"
      },
      "source": [
        "Há algumas formas de inicializar a classe. Pode-se instancia-lá com os valores padrões ao não se passar nenhum argumento."
      ]
    },
    {
      "cell_type": "code",
      "execution_count": null,
      "metadata": {
        "id": "vgAlFuN1fHcA"
      },
      "outputs": [],
      "source": [
        "prm = x3d.Parameters()"
      ]
    },
    {
      "cell_type": "markdown",
      "metadata": {
        "id": "QRej5A13fHcB"
      },
      "source": [
        "Na [documentação da Api](https://docs.fschuch.com/xcompact3d_toolbox/references/api-reference.html) pode-se ver uma lista com todas as variáveis."
      ]
    },
    {
      "cell_type": "markdown",
      "metadata": {
        "id": "Cx_F8sXSfHcD"
      },
      "source": [
        "Também pode-se visualizar na tela com o comando `print`:"
      ]
    },
    {
      "cell_type": "code",
      "execution_count": null,
      "metadata": {
        "id": "sMOovbIBfHcE"
      },
      "outputs": [],
      "source": [
        "print(prm)"
      ]
    },
    {
      "cell_type": "markdown",
      "metadata": {
        "id": "w0FCYZV2fHcG"
      },
      "source": [
        "Também pode-se visualizar valores individualmente:"
      ]
    },
    {
      "cell_type": "code",
      "execution_count": null,
      "metadata": {
        "id": "XMmWkkYbfHcH"
      },
      "outputs": [],
      "source": [
        "# Número de Reynolds\n",
        "print(prm.re)\n",
        "\n",
        "# Atribuir um valor novo\n",
        "prm.re = 1e6\n",
        "print(prm.re)"
      ]
    },
    {
      "cell_type": "markdown",
      "metadata": {
        "id": "kLlrJKkXfHcI"
      },
      "source": [
        "Pode-se inicializar alguns parâmetros e utilizar o pdrão para o restante:"
      ]
    },
    {
      "cell_type": "code",
      "execution_count": null,
      "metadata": {
        "id": "1tL0ZZh3fHcJ"
      },
      "outputs": [],
      "source": [
        "prm = x3d.Parameters(\n",
        "    filename=\"example.i3d\",\n",
        "    itype=10,\n",
        "    nx=129,\n",
        "    ny=65,\n",
        "    nz=32,\n",
        "    xlx=15.0,\n",
        "    yly=10.0,\n",
        "    zlz=3.0,\n",
        "    nclx1=2,\n",
        "    nclxn=2,\n",
        "    ncly1=1,\n",
        "    nclyn=1,\n",
        "    nclz1=0,\n",
        "    nclzn=0,\n",
        "    iin=1,\n",
        "    istret=2,\n",
        "    re=300.0,\n",
        "    init_noise=0.0125,\n",
        "    inflow_noise=0.0125,\n",
        "    dt=0.0025,\n",
        "    ifirst=1,\n",
        "    ilast=45000,\n",
        "    irestart=0,\n",
        "    icheckpoint=45000,\n",
        "    ioutput=200,\n",
        "    iprocessing=50,\n",
        ")"
      ]
    },
    {
      "cell_type": "markdown",
      "metadata": {
        "id": "MxXHZw_gfHcJ"
      },
      "source": [
        "Pode-se salvar a estrutura de dados em arquivo texto com o comando:"
      ]
    },
    {
      "cell_type": "code",
      "execution_count": null,
      "metadata": {
        "id": "8hYngEdbfHcK"
      },
      "outputs": [],
      "source": [
        "prm.write()"
      ]
    },
    {
      "cell_type": "markdown",
      "metadata": {
        "id": "VxpwNZWNfHcL"
      },
      "source": [
        "Por último pode-se carregar os parâmetros de um arquivo texto:"
      ]
    },
    {
      "cell_type": "code",
      "execution_count": null,
      "metadata": {
        "id": "JejXTYRZfHcM"
      },
      "outputs": [],
      "source": [
        "prm = x3d.Parameters(filename=\"example.i3d\")\n",
        "prm.load()"
      ]
    },
    {
      "cell_type": "markdown",
      "metadata": {
        "id": "qGQiC-r9fHcM"
      },
      "source": [
        "A mesma operação pode-se ser feita de uma forma mais concisa:"
      ]
    },
    {
      "cell_type": "code",
      "execution_count": null,
      "metadata": {
        "id": "2RBWtvWOfHcN"
      },
      "outputs": [],
      "source": [
        "prm = x3d.Parameters(loadfile=\"example.i3d\")"
      ]
    },
    {
      "cell_type": "markdown",
      "metadata": {
        "id": "tKz1RUznfHcO"
      },
      "source": [
        "Também pode-se carregar um arquivo de um formato antigo ([mais informações estão disponíveis nesse link](https://github.com/fschuch/xcompact3d_toolbox/issues/7)):\n",
        "\n",
        "``` python\n",
        "prm = x3d.Parameters(loadfile=\"incompact3d.prm\")\n",
        "```"
      ]
    },
    {
      "cell_type": "markdown",
      "source": [
        "Pode-se instanciar a malha pelo método `get_mesh`."
      ],
      "metadata": {
        "id": "KzHssKRaqt3E"
      }
    },
    {
      "cell_type": "code",
      "execution_count": null,
      "metadata": {
        "id": "ogFwLXe8fHcP"
      },
      "outputs": [],
      "source": [
        "prm.get_mesh()"
      ]
    },
    {
      "cell_type": "markdown",
      "metadata": {
        "id": "du4uyfrHfHcQ"
      },
      "source": [
        "## Traitlets\n",
        "\n",
        "### Verificação de Tipo\n",
        "\n",
        "Todos os parâmetros são verificados, para garantir que eles são compatíveis com o que `XCompact3d` espera. Rode na próxima célula os casos a baixo e observe o erro retornado.\n",
        "\n",
        "```python\n",
        "prm.itype = 10.5\n",
        "prm.itype = -5\n",
        "prm.itype = 20\n",
        "prm.itype = 'sandbox'\n",
        "\n",
        "```\n"
      ]
    },
    {
      "cell_type": "code",
      "execution_count": null,
      "metadata": {
        "id": "IeJVyRh-fHcR"
      },
      "outputs": [],
      "source": [
        "prm.itype = 'sandbox'"
      ]
    },
    {
      "cell_type": "markdown",
      "metadata": {
        "id": "6laKyP0-fHcS"
      },
      "source": [
        "### Validação"
      ]
    },
    {
      "cell_type": "markdown",
      "metadata": {
        "id": "E7FyUKoJfHcS"
      },
      "source": [
        "Some parameters, like mesh points (`nx`, `ny` and `nz`), trigger a validation operation when a new value is attributed to them.\n",
        "Due to restrictions at the FFT library, they must be equal to:\n",
        "\n",
        "Alguns parâmetros, como os pontos da malha (`nx`, `ny` e `nz`), aciona uma operação de validação quando um novo valor é atribuido a eles. Devido as restrições da librária FFT, valores válidos seguem a seguinte restrição:\n",
        "\n",
        "$$\n",
        "n_i = \\left\\{ \\begin{array}{ll} 2^{1+a} \\times 3^b \\times 5^c &\\mbox{se periódico,} \\\\ 2^{1+a} \\times 3^b \\times 5^c + 1 &\\mbox{para os outros casos,}\n",
        "\\end{array} \\right.\n",
        "$$\n",
        "\n",
        "onde  $a$, $b$ e $c$ são inteiros não negativos. Além disso, o esquema de derivação impõem:\n",
        "\n",
        "$$\n",
        "n_i \\ge \\left\\{ \\begin{array}{ll} 8 &\\mbox{se periódico,} \\\\ 9 &\\mbox{para os outros casos.}\n",
        "\\end{array} \\right.\n",
        "$$\n",
        "\n",
        "Novamente tente os seguintes valores na célula a baixo:\n",
        "\n",
        "```python\n",
        "prm.nx = 129\n",
        "prm.nx = 4\n",
        "prm.nx = 60\n",
        "prm.nx = 61\n",
        "```"
      ]
    },
    {
      "cell_type": "code",
      "execution_count": null,
      "metadata": {
        "id": "797NHF6CfHcT"
      },
      "outputs": [],
      "source": [
        "prm.nx = 61"
      ]
    },
    {
      "cell_type": "markdown",
      "metadata": {
        "id": "U0h1Q8hufHcU"
      },
      "source": [
        "### Observação"
      ]
    },
    {
      "cell_type": "markdown",
      "metadata": {
        "id": "hvkZ5kLJfHcU"
      },
      "source": [
        "Outros parâmetros, como a resolução da malha (`dx`, `dy` and `dz`), são atualizados automaticamente quando novos valores são atribuidos ao domínio. Isso é verificado pela função abaixo:"
      ]
    },
    {
      "cell_type": "code",
      "execution_count": null,
      "metadata": {
        "id": "FoDQju1lfHcV"
      },
      "outputs": [],
      "source": [
        "def show_param():\n",
        "    for var in \"nclx1 nclxn nx xlx dx\".split():\n",
        "        print(f\"{var:>5} = {getattr(prm, var)}\")"
      ]
    },
    {
      "cell_type": "markdown",
      "metadata": {
        "id": "nhJi1WRqfHcV"
      },
      "source": [
        "Observe o que a função produz na tela:"
      ]
    },
    {
      "cell_type": "code",
      "execution_count": null,
      "metadata": {
        "id": "G_sMAOOOfHcW"
      },
      "outputs": [],
      "source": [
        "show_param()"
      ]
    },
    {
      "cell_type": "markdown",
      "metadata": {
        "id": "78yCYvi1fHcX"
      },
      "source": [
        "Note o que acontece quando se muda o comprimento em x:"
      ]
    },
    {
      "cell_type": "code",
      "execution_count": null,
      "metadata": {
        "id": "pdc8mi3kfHcX"
      },
      "outputs": [],
      "source": [
        "prm.xlx = 50.0\n",
        "\n",
        "show_param()"
      ]
    },
    {
      "cell_type": "markdown",
      "metadata": {
        "id": "YwntkNKFfHcY"
      },
      "source": [
        "`dx` foi atualizado automaticamente. Veja o que ocorre quando se altera o  número de pontos:"
      ]
    },
    {
      "cell_type": "code",
      "execution_count": null,
      "metadata": {
        "id": "L-NE6xzBfHcZ"
      },
      "outputs": [],
      "source": [
        "prm.nx = 121\n",
        "\n",
        "show_param()"
      ]
    },
    {
      "cell_type": "markdown",
      "metadata": {
        "id": "VRWTwBFyfHcZ"
      },
      "source": [
        "Novamente a resolução foi modificada. Agora `xlx` será atualizada para satisfazer uma nova resolução:"
      ]
    },
    {
      "cell_type": "code",
      "execution_count": null,
      "metadata": {
        "id": "LiAVFOBOfHca"
      },
      "outputs": [],
      "source": [
        "prm.dx = 1e-2\n",
        "\n",
        "show_param()"
      ]
    },
    {
      "cell_type": "markdown",
      "metadata": {
        "id": "U-ycHeRTfHcb"
      },
      "source": [
        "Condições de contorna são presentes também. Xcompact3d oferece três opções para o campo de velocidade:\n",
        "\n",
        "* Periódico `0`;\n",
        "* Deslizamento-livre `1`;\n",
        "* Dirichlet `2`.\n",
        "\n",
        "Eles podem ser atribuidos individualmente a cada superfície:\n",
        "\n",
        "* `nclx1` e `nclxn`, onde $x=0$ e $x=xlx$;\n",
        "* `ncly1` e `nclyn`, onde $y=0$ e $y=yly$;\n",
        "* `nclz1` e `nclzn`, onde $z=0$ e $z=zlz$.\n",
        "\n",
        "O que leva a 5 possibilidades (`00`, `11`, `12`, `21` and `22`), devido que for aplicado periodicidade, ela deve ser imposta em ambas as paredes.\n",
        "\n",
        "Testando-se novamente com:"
      ]
    },
    {
      "cell_type": "code",
      "execution_count": null,
      "metadata": {
        "id": "uicdUHw5fHcb"
      },
      "outputs": [],
      "source": [
        "show_param()"
      ]
    },
    {
      "cell_type": "markdown",
      "metadata": {
        "id": "8bSmG2fofHcc"
      },
      "source": [
        "Modificando uma das interfaces para ser periódico (`nclx1 = 0`), por consistência, o outro lado deve ser também."
      ]
    },
    {
      "cell_type": "code",
      "execution_count": null,
      "metadata": {
        "id": "zXc1dhU2fHcc"
      },
      "outputs": [],
      "source": [
        "prm.nclx1 = 0\n",
        "\n",
        "show_param()"
      ]
    },
    {
      "cell_type": "markdown",
      "metadata": {
        "id": "OFjm-t-xfHcd"
      },
      "source": [
        "Agora, impondo deslizamento-livre em um dos lados (`nclx1 = 1`), o outro deve não ser periódico:"
      ]
    },
    {
      "cell_type": "code",
      "execution_count": null,
      "metadata": {
        "id": "AlHq4ctlfHcd"
      },
      "outputs": [],
      "source": [
        "prm.nclx1 = 1\n",
        "\n",
        "show_param()"
      ]
    },
    {
      "cell_type": "markdown",
      "metadata": {
        "id": "jDqhWmimfHce"
      },
      "source": [
        "Definindo a outra interface com periódico:"
      ]
    },
    {
      "cell_type": "code",
      "execution_count": null,
      "metadata": {
        "id": "c_5PpVRtfHce"
      },
      "outputs": [],
      "source": [
        "prm.nclxn = 0\n",
        "\n",
        "show_param()"
      ]
    },
    {
      "cell_type": "markdown",
      "metadata": {
        "id": "bIA-v5ujfHcg"
      },
      "source": [
        "Retornando para Dirichlet:"
      ]
    },
    {
      "cell_type": "code",
      "execution_count": null,
      "metadata": {
        "id": "t1RqjbsSfHch"
      },
      "outputs": [],
      "source": [
        "prm.nclxn = 2\n",
        "\n",
        "show_param()"
      ]
    },
    {
      "cell_type": "markdown",
      "metadata": {
        "id": "rLOwX9ZHfHci"
      },
      "source": [
        "Deslizamento-livre, novamente:"
      ]
    },
    {
      "cell_type": "code",
      "execution_count": null,
      "metadata": {
        "id": "rcOsbfEefHci"
      },
      "outputs": [],
      "source": [
        "prm.nclxn = 1\n",
        "\n",
        "show_param()"
      ]
    },
    {
      "cell_type": "markdown",
      "metadata": {
        "id": "nfqxAw_lfHck"
      },
      "source": [
        "`nclx1` não precisou ser atualizado, já que as condições `1` e `2` podem ser combinadas livremente. Perceba como `nx` foi alternado entre 121 e 120 dependendo da condição de contorno imposta. `dx` e `xlx` permanecem inalterados."
      ]
    },
    {
      "cell_type": "markdown",
      "metadata": {
        "id": "J3TWmMPpfHcq"
      },
      "source": [
        "## Interface Gráfica"
      ]
    },
    {
      "cell_type": "markdown",
      "metadata": {
        "id": "UoIdP2xtfHcr"
      },
      "source": [
        "A classe `ParametersGui` é uma subclasse de `Parameters`, incluindo todas as funcionalidades descritas anteriormente. `ParametersGui` oferece uma interface de usuário com [IPywidgets](https://ipywidgets.readthedocs.io/en/stable/index.html).\n",
        "\n",
        "Esse parte ainda está em desenvolvimento, novas funcionalidades serão implementadas em breve.\n",
        "\n",
        "Comece com:"
      ]
    },
    {
      "cell_type": "code",
      "execution_count": null,
      "metadata": {
        "id": "3kyAPud4fHcs"
      },
      "outputs": [],
      "source": [
        "prm = x3d.ParametersGui()"
      ]
    },
    {
      "cell_type": "markdown",
      "metadata": {
        "id": "OhICwfK-fHcs"
      },
      "source": [
        "Widgets são retornadas sobdemanda para qualquer instância da `classe ParametersGui` quando é chamada:"
      ]
    },
    {
      "cell_type": "code",
      "execution_count": null,
      "metadata": {
        "id": "0l4SH0mYfHct"
      },
      "outputs": [],
      "source": [
        "prm(\"nx\", \"xlx\", \"dx\", \"nclx1\", \"nclxn\")"
      ]
    },
    {
      "cell_type": "markdown",
      "metadata": {
        "id": "t6VSIWYdfHcu"
      },
      "source": [
        "Fique testando diferentes valores no widgets e veja como os parâmetros são atualizados automaticamente.\n",
        "\n",
        "Chamando a função `show_param` pode-se verificar como os valores no widgets são salvos na estrutura de dados."
      ]
    },
    {
      "cell_type": "code",
      "execution_count": null,
      "metadata": {
        "id": "a5yHdZ6-fHcu"
      },
      "outputs": [],
      "source": [
        "show_param()"
      ]
    },
    {
      "cell_type": "markdown",
      "metadata": {
        "id": "62tu9H-AfHcv"
      },
      "source": [
        "Refaça esse processo e chame a função `show_param` novamente.\n",
        "\n",
        "Se alterarmos o valor de um parâmetro como na célula abaixo os widgets são atualizados altomaticamente."
      ]
    },
    {
      "cell_type": "code",
      "execution_count": null,
      "metadata": {
        "id": "pvwWf6P_fHcw"
      },
      "outputs": [],
      "source": [
        "prm.nclx1 = 0"
      ]
    },
    {
      "cell_type": "markdown",
      "metadata": {
        "id": "J5phv1svfHcx"
      },
      "source": [
        "Diferentes widgets são sempre sincronizados, observe como modificando o widgets a baixo o parâmetro é atualizado no widgets anterior."
      ]
    },
    {
      "cell_type": "code",
      "execution_count": null,
      "metadata": {
        "id": "M-eA_SVqfHcx"
      },
      "outputs": [],
      "source": [
        "prm(\"nx\")"
      ]
    },
    {
      "cell_type": "markdown",
      "metadata": {
        "id": "BQZRqMHdfHcy"
      },
      "source": [
        "O último exemplo é sobre decomposição de domínio para computação paralela, Xcompact3d usa [2DECOMP&FFT](http://www.2decomp.org/).\n",
        "Os parâmetros `p_row` e `p_col` são apresentados como função do número de núcleos computacionais `ncores`, com `p_row * p_col = ncores`, com `p_row * p_col = 0` sendo o modo auto-tuning."
      ]
    },
    {
      "cell_type": "code",
      "execution_count": null,
      "metadata": {
        "id": "2qh62wBffHcz"
      },
      "outputs": [],
      "source": [
        "prm(\"ncores\", \"p_row\", \"p_col\")"
      ]
    },
    {
      "cell_type": "markdown",
      "metadata": {
        "id": "XrIQ6KrUfHcz"
      },
      "source": [
        "Por fim, pode-se ver o que acontece quando a `classe ParametersGui` é plotada na tela, a descrição de cada atributo pode ser vista posicionando o mouse sobre a variável."
      ]
    },
    {
      "cell_type": "code",
      "execution_count": null,
      "metadata": {
        "id": "ThuFzmtbfHc0"
      },
      "outputs": [],
      "source": [
        "prm"
      ]
    },
    {
      "cell_type": "code",
      "source": [],
      "metadata": {
        "id": "yaQ-bra5Lm5_"
      },
      "execution_count": null,
      "outputs": []
    }
  ],
  "metadata": {
    "interpreter": {
      "hash": "546d5beeb22119d9a20f6c19239ae627cc2b69f70be285d1d696980c89f3c939"
    },
    "kernelspec": {
      "display_name": "Python 3.9.5 64-bit ('idp': conda)",
      "name": "python3"
    },
    "language_info": {
      "codemirror_mode": {
        "name": "ipython",
        "version": 3
      },
      "file_extension": ".py",
      "mimetype": "text/x-python",
      "name": "python",
      "nbconvert_exporter": "python",
      "pygments_lexer": "ipython3",
      "version": "3.12.2"
    },
    "colab": {
      "provenance": []
    }
  },
  "nbformat": 4,
  "nbformat_minor": 0
}