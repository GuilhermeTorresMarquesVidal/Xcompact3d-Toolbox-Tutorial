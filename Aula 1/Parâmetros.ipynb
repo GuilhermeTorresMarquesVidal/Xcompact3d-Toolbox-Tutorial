{
  "cells": [
    {
      "cell_type": "markdown",
      "source": [
        "# Instalação"
      ],
      "metadata": {
        "id": "BVtAR2q7kZ9x"
      }
    },
    {
      "cell_type": "code",
      "source": [
        "#!pip install xcompact3d_toolbox"
      ],
      "metadata": {
        "id": "XcgSJW3VjL73",
        "outputId": "9da8f59f-a9ef-4b09-e299-e24c3964b837",
        "colab": {
          "base_uri": "https://localhost:8080/",
          "height": 1000
        }
      },
      "execution_count": 2,
      "outputs": [
        {
          "output_type": "stream",
          "name": "stdout",
          "text": [
            "Collecting xcompact3d_toolbox\n",
            "  Downloading xcompact3d_toolbox-1.3.3-py3-none-any.whl.metadata (15 kB)\n",
            "Requirement already satisfied: dask>=2024.8 in /usr/local/lib/python3.12/dist-packages (from dask[complete]>=2024.8->xcompact3d_toolbox) (2025.5.0)\n",
            "Collecting deprecated>=1.2 (from xcompact3d_toolbox)\n",
            "  Downloading Deprecated-1.2.18-py2.py3-none-any.whl.metadata (5.7 kB)\n",
            "Collecting ipywidgets>=8.1 (from xcompact3d_toolbox)\n",
            "  Downloading ipywidgets-8.1.7-py3-none-any.whl.metadata (2.4 kB)\n",
            "Collecting loguru>=0.7 (from xcompact3d_toolbox)\n",
            "  Downloading loguru-0.7.3-py3-none-any.whl.metadata (22 kB)\n",
            "Collecting netcdf4>=1.7 (from xcompact3d_toolbox)\n",
            "  Downloading netCDF4-1.7.2-cp312-cp312-manylinux_2_17_x86_64.manylinux2014_x86_64.whl.metadata (1.8 kB)\n",
            "Requirement already satisfied: numba>=0.60 in /usr/local/lib/python3.12/dist-packages (from xcompact3d_toolbox) (0.60.0)\n",
            "Collecting numpy-stl>=3.2 (from xcompact3d_toolbox)\n",
            "  Downloading numpy_stl-3.2.0-py3-none-any.whl.metadata (18 kB)\n",
            "Requirement already satisfied: numpy>=2.0 in /usr/local/lib/python3.12/dist-packages (from xcompact3d_toolbox) (2.0.2)\n",
            "Requirement already satisfied: pandas>=2.2 in /usr/local/lib/python3.12/dist-packages (from xcompact3d_toolbox) (2.2.2)\n",
            "Requirement already satisfied: scipy>=1.13 in /usr/local/lib/python3.12/dist-packages (from xcompact3d_toolbox) (1.16.1)\n",
            "Requirement already satisfied: tqdm>=4.67 in /usr/local/lib/python3.12/dist-packages (from xcompact3d_toolbox) (4.67.1)\n",
            "Collecting traitlets>=5.14 (from xcompact3d_toolbox)\n",
            "  Downloading traitlets-5.14.3-py3-none-any.whl.metadata (10 kB)\n",
            "Requirement already satisfied: xarray>=2024.7 in /usr/local/lib/python3.12/dist-packages (from xcompact3d_toolbox) (2025.8.0)\n",
            "Requirement already satisfied: click>=8.1 in /usr/local/lib/python3.12/dist-packages (from dask>=2024.8->dask[complete]>=2024.8->xcompact3d_toolbox) (8.2.1)\n",
            "Requirement already satisfied: cloudpickle>=3.0.0 in /usr/local/lib/python3.12/dist-packages (from dask>=2024.8->dask[complete]>=2024.8->xcompact3d_toolbox) (3.1.1)\n",
            "Requirement already satisfied: fsspec>=2021.09.0 in /usr/local/lib/python3.12/dist-packages (from dask>=2024.8->dask[complete]>=2024.8->xcompact3d_toolbox) (2025.3.0)\n",
            "Requirement already satisfied: packaging>=20.0 in /usr/local/lib/python3.12/dist-packages (from dask>=2024.8->dask[complete]>=2024.8->xcompact3d_toolbox) (25.0)\n",
            "Requirement already satisfied: partd>=1.4.0 in /usr/local/lib/python3.12/dist-packages (from dask>=2024.8->dask[complete]>=2024.8->xcompact3d_toolbox) (1.4.2)\n",
            "Requirement already satisfied: pyyaml>=5.3.1 in /usr/local/lib/python3.12/dist-packages (from dask>=2024.8->dask[complete]>=2024.8->xcompact3d_toolbox) (6.0.2)\n",
            "Requirement already satisfied: toolz>=0.10.0 in /usr/local/lib/python3.12/dist-packages (from dask>=2024.8->dask[complete]>=2024.8->xcompact3d_toolbox) (0.12.1)\n",
            "Requirement already satisfied: pyarrow>=14.0.1 in /usr/local/lib/python3.12/dist-packages (from dask[complete]>=2024.8->xcompact3d_toolbox) (18.1.0)\n",
            "Collecting lz4>=4.3.2 (from dask[complete]>=2024.8->xcompact3d_toolbox)\n",
            "  Downloading lz4-4.4.4-cp312-cp312-manylinux_2_17_x86_64.manylinux2014_x86_64.whl.metadata (3.8 kB)\n",
            "Requirement already satisfied: wrapt<2,>=1.10 in /usr/local/lib/python3.12/dist-packages (from deprecated>=1.2->xcompact3d_toolbox) (1.17.3)\n",
            "Collecting comm>=0.1.3 (from ipywidgets>=8.1->xcompact3d_toolbox)\n",
            "  Downloading comm-0.2.3-py3-none-any.whl.metadata (3.7 kB)\n",
            "Requirement already satisfied: ipython>=6.1.0 in /usr/local/lib/python3.12/dist-packages (from ipywidgets>=8.1->xcompact3d_toolbox) (7.34.0)\n",
            "Collecting widgetsnbextension~=4.0.14 (from ipywidgets>=8.1->xcompact3d_toolbox)\n",
            "  Downloading widgetsnbextension-4.0.14-py3-none-any.whl.metadata (1.6 kB)\n",
            "Requirement already satisfied: jupyterlab_widgets~=3.0.15 in /usr/local/lib/python3.12/dist-packages (from ipywidgets>=8.1->xcompact3d_toolbox) (3.0.15)\n",
            "Collecting cftime (from netcdf4>=1.7->xcompact3d_toolbox)\n",
            "  Downloading cftime-1.6.4.post1-cp312-cp312-manylinux_2_17_x86_64.manylinux2014_x86_64.whl.metadata (8.7 kB)\n",
            "Requirement already satisfied: certifi in /usr/local/lib/python3.12/dist-packages (from netcdf4>=1.7->xcompact3d_toolbox) (2025.8.3)\n",
            "Requirement already satisfied: llvmlite<0.44,>=0.43.0dev0 in /usr/local/lib/python3.12/dist-packages (from numba>=0.60->xcompact3d_toolbox) (0.43.0)\n",
            "Requirement already satisfied: python-utils>=3.4.5 in /usr/local/lib/python3.12/dist-packages (from numpy-stl>=3.2->xcompact3d_toolbox) (3.9.1)\n",
            "Requirement already satisfied: python-dateutil>=2.8.2 in /usr/local/lib/python3.12/dist-packages (from pandas>=2.2->xcompact3d_toolbox) (2.9.0.post0)\n",
            "Requirement already satisfied: pytz>=2020.1 in /usr/local/lib/python3.12/dist-packages (from pandas>=2.2->xcompact3d_toolbox) (2025.2)\n",
            "Requirement already satisfied: tzdata>=2022.7 in /usr/local/lib/python3.12/dist-packages (from pandas>=2.2->xcompact3d_toolbox) (2025.2)\n",
            "Requirement already satisfied: setuptools>=18.5 in /usr/local/lib/python3.12/dist-packages (from ipython>=6.1.0->ipywidgets>=8.1->xcompact3d_toolbox) (75.2.0)\n",
            "Collecting jedi>=0.16 (from ipython>=6.1.0->ipywidgets>=8.1->xcompact3d_toolbox)\n",
            "  Downloading jedi-0.19.2-py2.py3-none-any.whl.metadata (22 kB)\n",
            "Requirement already satisfied: decorator in /usr/local/lib/python3.12/dist-packages (from ipython>=6.1.0->ipywidgets>=8.1->xcompact3d_toolbox) (4.4.2)\n",
            "Requirement already satisfied: pickleshare in /usr/local/lib/python3.12/dist-packages (from ipython>=6.1.0->ipywidgets>=8.1->xcompact3d_toolbox) (0.7.5)\n",
            "Requirement already satisfied: prompt-toolkit!=3.0.0,!=3.0.1,<3.1.0,>=2.0.0 in /usr/local/lib/python3.12/dist-packages (from ipython>=6.1.0->ipywidgets>=8.1->xcompact3d_toolbox) (3.0.52)\n",
            "Requirement already satisfied: pygments in /usr/local/lib/python3.12/dist-packages (from ipython>=6.1.0->ipywidgets>=8.1->xcompact3d_toolbox) (2.19.2)\n",
            "Requirement already satisfied: backcall in /usr/local/lib/python3.12/dist-packages (from ipython>=6.1.0->ipywidgets>=8.1->xcompact3d_toolbox) (0.2.0)\n",
            "Requirement already satisfied: matplotlib-inline in /usr/local/lib/python3.12/dist-packages (from ipython>=6.1.0->ipywidgets>=8.1->xcompact3d_toolbox) (0.1.7)\n",
            "Requirement already satisfied: pexpect>4.3 in /usr/local/lib/python3.12/dist-packages (from ipython>=6.1.0->ipywidgets>=8.1->xcompact3d_toolbox) (4.9.0)\n",
            "Requirement already satisfied: locket in /usr/local/lib/python3.12/dist-packages (from partd>=1.4.0->dask>=2024.8->dask[complete]>=2024.8->xcompact3d_toolbox) (1.0.0)\n",
            "Requirement already satisfied: six>=1.5 in /usr/local/lib/python3.12/dist-packages (from python-dateutil>=2.8.2->pandas>=2.2->xcompact3d_toolbox) (1.17.0)\n",
            "Requirement already satisfied: typing_extensions>3.10.0.2 in /usr/local/lib/python3.12/dist-packages (from python-utils>=3.4.5->numpy-stl>=3.2->xcompact3d_toolbox) (4.15.0)\n",
            "Requirement already satisfied: distributed==2025.5.0 in /usr/local/lib/python3.12/dist-packages (from dask>=2024.8->dask[complete]>=2024.8->xcompact3d_toolbox) (2025.5.0)\n",
            "Requirement already satisfied: bokeh>=3.1.0 in /usr/local/lib/python3.12/dist-packages (from dask>=2024.8->dask[complete]>=2024.8->xcompact3d_toolbox) (3.7.3)\n",
            "Requirement already satisfied: jinja2>=2.10.3 in /usr/local/lib/python3.12/dist-packages (from dask>=2024.8->dask[complete]>=2024.8->xcompact3d_toolbox) (3.1.6)\n",
            "Requirement already satisfied: msgpack>=1.0.2 in /usr/local/lib/python3.12/dist-packages (from distributed==2025.5.0->dask>=2024.8->dask[complete]>=2024.8->xcompact3d_toolbox) (1.1.1)\n",
            "Requirement already satisfied: psutil>=5.8.0 in /usr/local/lib/python3.12/dist-packages (from distributed==2025.5.0->dask>=2024.8->dask[complete]>=2024.8->xcompact3d_toolbox) (5.9.5)\n",
            "Requirement already satisfied: sortedcontainers>=2.0.5 in /usr/local/lib/python3.12/dist-packages (from distributed==2025.5.0->dask>=2024.8->dask[complete]>=2024.8->xcompact3d_toolbox) (2.4.0)\n",
            "Requirement already satisfied: tblib>=1.6.0 in /usr/local/lib/python3.12/dist-packages (from distributed==2025.5.0->dask>=2024.8->dask[complete]>=2024.8->xcompact3d_toolbox) (3.1.0)\n",
            "Requirement already satisfied: tornado>=6.2.0 in /usr/local/lib/python3.12/dist-packages (from distributed==2025.5.0->dask>=2024.8->dask[complete]>=2024.8->xcompact3d_toolbox) (6.4.2)\n",
            "Requirement already satisfied: urllib3>=1.26.5 in /usr/local/lib/python3.12/dist-packages (from distributed==2025.5.0->dask>=2024.8->dask[complete]>=2024.8->xcompact3d_toolbox) (2.5.0)\n",
            "Requirement already satisfied: zict>=3.0.0 in /usr/local/lib/python3.12/dist-packages (from distributed==2025.5.0->dask>=2024.8->dask[complete]>=2024.8->xcompact3d_toolbox) (3.0.0)\n",
            "Requirement already satisfied: contourpy>=1.2 in /usr/local/lib/python3.12/dist-packages (from bokeh>=3.1.0->dask>=2024.8->dask[complete]>=2024.8->xcompact3d_toolbox) (1.3.3)\n",
            "Requirement already satisfied: narwhals>=1.13 in /usr/local/lib/python3.12/dist-packages (from bokeh>=3.1.0->dask>=2024.8->dask[complete]>=2024.8->xcompact3d_toolbox) (2.3.0)\n",
            "Requirement already satisfied: pillow>=7.1.0 in /usr/local/lib/python3.12/dist-packages (from bokeh>=3.1.0->dask>=2024.8->dask[complete]>=2024.8->xcompact3d_toolbox) (11.3.0)\n",
            "Requirement already satisfied: xyzservices>=2021.09.1 in /usr/local/lib/python3.12/dist-packages (from bokeh>=3.1.0->dask>=2024.8->dask[complete]>=2024.8->xcompact3d_toolbox) (2025.4.0)\n",
            "Requirement already satisfied: parso<0.9.0,>=0.8.4 in /usr/local/lib/python3.12/dist-packages (from jedi>=0.16->ipython>=6.1.0->ipywidgets>=8.1->xcompact3d_toolbox) (0.8.5)\n",
            "Requirement already satisfied: MarkupSafe>=2.0 in /usr/local/lib/python3.12/dist-packages (from jinja2>=2.10.3->dask>=2024.8->dask[complete]>=2024.8->xcompact3d_toolbox) (3.0.2)\n",
            "Requirement already satisfied: ptyprocess>=0.5 in /usr/local/lib/python3.12/dist-packages (from pexpect>4.3->ipython>=6.1.0->ipywidgets>=8.1->xcompact3d_toolbox) (0.7.0)\n",
            "Requirement already satisfied: wcwidth in /usr/local/lib/python3.12/dist-packages (from prompt-toolkit!=3.0.0,!=3.0.1,<3.1.0,>=2.0.0->ipython>=6.1.0->ipywidgets>=8.1->xcompact3d_toolbox) (0.2.13)\n",
            "Downloading xcompact3d_toolbox-1.3.3-py3-none-any.whl (68 kB)\n",
            "\u001b[2K   \u001b[90m━━━━━━━━━━━━━━━━━━━━━━━━━━━━━━━━━━━━━━━━\u001b[0m \u001b[32m68.4/68.4 kB\u001b[0m \u001b[31m6.6 MB/s\u001b[0m eta \u001b[36m0:00:00\u001b[0m\n",
            "\u001b[?25hDownloading Deprecated-1.2.18-py2.py3-none-any.whl (10.0 kB)\n",
            "Downloading ipywidgets-8.1.7-py3-none-any.whl (139 kB)\n",
            "\u001b[2K   \u001b[90m━━━━━━━━━━━━━━━━━━━━━━━━━━━━━━━━━━━━━━━━\u001b[0m \u001b[32m139.8/139.8 kB\u001b[0m \u001b[31m12.6 MB/s\u001b[0m eta \u001b[36m0:00:00\u001b[0m\n",
            "\u001b[?25hDownloading loguru-0.7.3-py3-none-any.whl (61 kB)\n",
            "\u001b[2K   \u001b[90m━━━━━━━━━━━━━━━━━━━━━━━━━━━━━━━━━━━━━━━━\u001b[0m \u001b[32m61.6/61.6 kB\u001b[0m \u001b[31m5.5 MB/s\u001b[0m eta \u001b[36m0:00:00\u001b[0m\n",
            "\u001b[?25hDownloading netCDF4-1.7.2-cp312-cp312-manylinux_2_17_x86_64.manylinux2014_x86_64.whl (9.3 MB)\n",
            "\u001b[2K   \u001b[90m━━━━━━━━━━━━━━━━━━━━━━━━━━━━━━━━━━━━━━━━\u001b[0m \u001b[32m9.3/9.3 MB\u001b[0m \u001b[31m62.0 MB/s\u001b[0m eta \u001b[36m0:00:00\u001b[0m\n",
            "\u001b[?25hDownloading numpy_stl-3.2.0-py3-none-any.whl (20 kB)\n",
            "Downloading traitlets-5.14.3-py3-none-any.whl (85 kB)\n",
            "\u001b[2K   \u001b[90m━━━━━━━━━━━━━━━━━━━━━━━━━━━━━━━━━━━━━━━━\u001b[0m \u001b[32m85.4/85.4 kB\u001b[0m \u001b[31m5.8 MB/s\u001b[0m eta \u001b[36m0:00:00\u001b[0m\n",
            "\u001b[?25hDownloading comm-0.2.3-py3-none-any.whl (7.3 kB)\n",
            "Downloading lz4-4.4.4-cp312-cp312-manylinux_2_17_x86_64.manylinux2014_x86_64.whl (1.3 MB)\n",
            "\u001b[2K   \u001b[90m━━━━━━━━━━━━━━━━━━━━━━━━━━━━━━━━━━━━━━━━\u001b[0m \u001b[32m1.3/1.3 MB\u001b[0m \u001b[31m47.7 MB/s\u001b[0m eta \u001b[36m0:00:00\u001b[0m\n",
            "\u001b[?25hDownloading widgetsnbextension-4.0.14-py3-none-any.whl (2.2 MB)\n",
            "\u001b[2K   \u001b[90m━━━━━━━━━━━━━━━━━━━━━━━━━━━━━━━━━━━━━━━━\u001b[0m \u001b[32m2.2/2.2 MB\u001b[0m \u001b[31m58.2 MB/s\u001b[0m eta \u001b[36m0:00:00\u001b[0m\n",
            "\u001b[?25hDownloading cftime-1.6.4.post1-cp312-cp312-manylinux_2_17_x86_64.manylinux2014_x86_64.whl (1.4 MB)\n",
            "\u001b[2K   \u001b[90m━━━━━━━━━━━━━━━━━━━━━━━━━━━━━━━━━━━━━━━━\u001b[0m \u001b[32m1.4/1.4 MB\u001b[0m \u001b[31m53.1 MB/s\u001b[0m eta \u001b[36m0:00:00\u001b[0m\n",
            "\u001b[?25hDownloading jedi-0.19.2-py2.py3-none-any.whl (1.6 MB)\n",
            "\u001b[2K   \u001b[90m━━━━━━━━━━━━━━━━━━━━━━━━━━━━━━━━━━━━━━━━\u001b[0m \u001b[32m1.6/1.6 MB\u001b[0m \u001b[31m56.6 MB/s\u001b[0m eta \u001b[36m0:00:00\u001b[0m\n",
            "\u001b[?25hInstalling collected packages: widgetsnbextension, traitlets, lz4, loguru, jedi, deprecated, comm, cftime, numpy-stl, netcdf4, ipywidgets, xcompact3d_toolbox\n",
            "  Attempting uninstall: widgetsnbextension\n",
            "    Found existing installation: widgetsnbextension 3.6.10\n",
            "    Uninstalling widgetsnbextension-3.6.10:\n",
            "      Successfully uninstalled widgetsnbextension-3.6.10\n",
            "  Attempting uninstall: traitlets\n",
            "    Found existing installation: traitlets 5.7.1\n",
            "    Uninstalling traitlets-5.7.1:\n",
            "      Successfully uninstalled traitlets-5.7.1\n",
            "  Attempting uninstall: ipywidgets\n",
            "    Found existing installation: ipywidgets 7.7.1\n",
            "    Uninstalling ipywidgets-7.7.1:\n",
            "      Successfully uninstalled ipywidgets-7.7.1\n",
            "Successfully installed cftime-1.6.4.post1 comm-0.2.3 deprecated-1.2.18 ipywidgets-8.1.7 jedi-0.19.2 loguru-0.7.3 lz4-4.4.4 netcdf4-1.7.2 numpy-stl-3.2.0 traitlets-5.14.3 widgetsnbextension-4.0.14 xcompact3d_toolbox-1.3.3\n"
          ]
        },
        {
          "output_type": "display_data",
          "data": {
            "application/vnd.colab-display-data+json": {
              "pip_warning": {
                "packages": [
                  "traitlets"
                ]
              },
              "id": "46663aa200c24e0d931154629114707b"
            }
          },
          "metadata": {}
        }
      ]
    },
    {
      "cell_type": "markdown",
      "source": [
        "# Parâmetros\n",
        "\n",
        "Os parâmetros físicos e computacionais são herdados por [xcompact3d_toolbox.Parameters](https://docs.fschuch.com/xcompact3d_toolbox/references/api-reference.html#xcompact3d_toolbox.parameters.Parameters). É programado sobre [Traitlets](https://traitlets.readthedocs.io/en/stable/index.html) o que permite que os parâmetros sejam compatíveis com XCompact3d which aims to make the parameters compatible with what XCompact3d. Além disso, a biblioteca oferece:\n",
        "\n",
        "* Verificação por tipo;\n",
        "* Valores padrão, restrições e dependências entre parâmetros são aplicados quando necessários;\n",
        "* Controles interativos com [ipywidgets](https://ipywidgets.readthedocs.io/en/latest/)."
      ],
      "metadata": {
        "id": "QNeSiLkLflvy"
      }
    },
    {
      "cell_type": "code",
      "execution_count": 1,
      "metadata": {
        "id": "rbJNqtczfHb4"
      },
      "outputs": [],
      "source": [
        "import numpy as np\n",
        "\n",
        "import xcompact3d_toolbox as x3d"
      ]
    },
    {
      "cell_type": "markdown",
      "source": [
        "Primeiro defini-se a precisão numérica. Verifique no Makefile qual a precisão que o Xcompact3d foi copilado, use `np.float64` se `-DDOUBLE_PREC` foi utilizado, `np.float32` para os demais."
      ],
      "metadata": {
        "id": "4NDwnX3bld4Z"
      }
    },
    {
      "cell_type": "code",
      "execution_count": 3,
      "metadata": {
        "id": "JDQfRCtUfHb8"
      },
      "outputs": [],
      "source": [
        "x3d.param[\"mytype\"] = np.float32"
      ]
    },
    {
      "cell_type": "markdown",
      "metadata": {
        "id": "Grw7BNH-fHb9"
      },
      "source": [
        "## Inicialização"
      ]
    },
    {
      "cell_type": "markdown",
      "metadata": {
        "id": "IL5mbI0PfHb_"
      },
      "source": [
        "Há algumas formas de inicializar a classe. Pode-se instancia-lá com os valores padrões ao não se passar nenhum argumento."
      ]
    },
    {
      "cell_type": "code",
      "execution_count": 4,
      "metadata": {
        "id": "vgAlFuN1fHcA"
      },
      "outputs": [],
      "source": [
        "prm = x3d.Parameters()"
      ]
    },
    {
      "cell_type": "markdown",
      "metadata": {
        "id": "QRej5A13fHcB"
      },
      "source": [
        "Na [documentação da Api](https://docs.fschuch.com/xcompact3d_toolbox/references/api-reference.html) pode-se ver uma lista com todas as variáveis."
      ]
    },
    {
      "cell_type": "markdown",
      "metadata": {
        "id": "Cx_F8sXSfHcD"
      },
      "source": [
        "Também pode-se visualizar na tela com o comando `print`:"
      ]
    },
    {
      "cell_type": "code",
      "execution_count": 5,
      "metadata": {
        "id": "sMOovbIBfHcE",
        "outputId": "806fb844-e525-44ef-8311-e1ef802f73d8",
        "colab": {
          "base_uri": "https://localhost:8080/"
        }
      },
      "outputs": [
        {
          "output_type": "stream",
          "name": "stdout",
          "text": [
            "! -*- mode: f90 -*-\n",
            "\n",
            "!===================\n",
            "&BasicParam\n",
            "!===================\n",
            "\n",
            "       C_filter = 0.49            ! \n",
            "           beta = 1.0             ! Refinement parameter\n",
            "             dt = 0.001           ! Time step\n",
            "          gravx = 0.0             ! Gravity unitary vector in x-direction\n",
            "          gravy = 0.0             ! Gravity unitary vector in y-direction\n",
            "          gravz = 0.0             ! Gravity unitary vector in z-direction\n",
            "        ifilter = 0               ! \n",
            "         ifirst = 0               ! The number for the first iteration\n",
            "           iibm = 0               ! Flag for immersed boundary method (0: No, 1: Yes)\n",
            "            iin = 0               ! Defines perturbation at initial condition\n",
            "          ilast = 0               ! The number for the last iteration\n",
            "        ilesmod = 0               ! Enables Large-Eddy methodologies (0: No, 1: Yes)\n",
            "           ilmn = .false.         ! \n",
            "   inflow_noise = 0.0             ! Turbulence intensity (1=100%) !! Inflow condition\n",
            "     init_noise = 0.0             ! Turbulence intensity (1=100%) !! Initial condition\n",
            "          ipost = 0               ! Enables online postprocessing at a frequency iprocessing (0: No, 1: Yes)\n",
            "        iscalar = 0               ! \n",
            "         istret = 0               ! y mesh refinement (0:no, 1:center, 2:both sides, 3:bottom)\n",
            "       iturbine = 0               ! \n",
            "          itype = 12              ! Flow configuration (1:Lock-exchange, 2:TGV, 3:Channel, and others)\n",
            "          ivisu = 1               ! Enable store snapshots at a frequency ioutput (0: No, 1: Yes)\n",
            "          nclx1 = 2               ! Velocity boundary condition where x=0\n",
            "          nclxn = 2               ! Velocity boundary condition where x=xlx\n",
            "          ncly1 = 2               ! Velocity boundary condition where y=0\n",
            "          nclyn = 2               ! Velocity boundary condition where y=yly\n",
            "          nclz1 = 2               ! Velocity boundary condition where z=0\n",
            "          nclzn = 2               ! Velocity boundary condition where z=zlz\n",
            "      numscalar = 0               ! Number of scalar fractions\n",
            "             nx = 17              ! X-direction nodes\n",
            "             ny = 17              ! Y-direction nodes\n",
            "             nz = 17              ! Z-direction nodes\n",
            "          p_col = 0               ! Column partition for domain decomposition and parallel computation\n",
            "          p_row = 0               ! Row partition for domain decomposition and parallel computation\n",
            "             re = 1000.0          ! Reynolds number\n",
            "             u1 = 2.0             ! \n",
            "             u2 = 1.0             ! \n",
            "            xlx = 1.0             ! Size of the box in x-direction\n",
            "            yly = 1.0             ! Size of the box in y-direction\n",
            "            zlz = 1.0             ! Size of the box in z-direction\n",
            "\n",
            "/End\n",
            "\n",
            "!===================\n",
            "&NumOptions\n",
            "!===================\n",
            "\n",
            "            cnu = 0.44            ! Ratio between hyperviscosity at km=2/3π and kc=π (dissipation factor range)\n",
            "      ifirstder = 4               ! \n",
            "      iimplicit = 0               ! \n",
            "     isecondder = 4               ! Scheme for second order derivative\n",
            "    itimescheme = 3               ! Time integration scheme (1: Euler, 2: AB2, 3: AB3, 5: RK3)\n",
            "          nu0nu = 4.0             ! Ratio between hyperviscosity/viscosity at nu (dissipation factor intensity)\n",
            "\n",
            "/End\n",
            "\n",
            "!===================\n",
            "&InOutParam\n",
            "!===================\n",
            "\n",
            "    icheckpoint = 1000            ! Frequency for writing backup file\n",
            "       ioutflow = 0               ! \n",
            "        ioutput = 1000            ! Frequency for visualization file\n",
            "    iprocessing = 1000            ! Frequency for online postprocessing\n",
            "       irestart = 0               ! Read initial flow field (0: No, 1: Yes)\n",
            "       ninflows = 1               ! \n",
            "        nprobes = 0               ! \n",
            "     ntimesteps = 1               ! \n",
            "          nvisu = 1               ! Size for visualization collection\n",
            "       output2D = 0               ! \n",
            "\n",
            "/End\n",
            "\n",
            "!===================\n",
            "&Statistics\n",
            "!===================\n",
            "\n",
            "\n",
            "/End\n",
            "\n",
            "!===================\n",
            "&CASE\n",
            "!===================\n",
            "\n",
            "\n",
            "/End\n",
            "\n"
          ]
        }
      ],
      "source": [
        "print(prm)"
      ]
    },
    {
      "cell_type": "markdown",
      "metadata": {
        "id": "w0FCYZV2fHcG"
      },
      "source": [
        "Também pode-se visualizar valores individualmente:"
      ]
    },
    {
      "cell_type": "code",
      "execution_count": 7,
      "metadata": {
        "id": "XMmWkkYbfHcH",
        "outputId": "efe48b18-7612-4a73-b38d-11bab12881f2",
        "colab": {
          "base_uri": "https://localhost:8080/"
        }
      },
      "outputs": [
        {
          "output_type": "stream",
          "name": "stdout",
          "text": [
            "1000000.0\n",
            "1000000.0\n"
          ]
        }
      ],
      "source": [
        "# Número de Reynolds\n",
        "print(prm.re)\n",
        "\n",
        "# Atribuir um valor novo\n",
        "prm.re = 1e6\n",
        "print(prm.re)"
      ]
    },
    {
      "cell_type": "markdown",
      "metadata": {
        "id": "kLlrJKkXfHcI"
      },
      "source": [
        "Pode-se inicializar alguns parâmetros e utilizar o pdrão para o restante:"
      ]
    },
    {
      "cell_type": "code",
      "execution_count": 8,
      "metadata": {
        "id": "1tL0ZZh3fHcJ"
      },
      "outputs": [],
      "source": [
        "prm = x3d.Parameters(\n",
        "    filename=\"example.i3d\",\n",
        "    itype=10,\n",
        "    nx=129,\n",
        "    ny=65,\n",
        "    nz=32,\n",
        "    xlx=15.0,\n",
        "    yly=10.0,\n",
        "    zlz=3.0,\n",
        "    nclx1=2,\n",
        "    nclxn=2,\n",
        "    ncly1=1,\n",
        "    nclyn=1,\n",
        "    nclz1=0,\n",
        "    nclzn=0,\n",
        "    iin=1,\n",
        "    istret=2,\n",
        "    re=300.0,\n",
        "    init_noise=0.0125,\n",
        "    inflow_noise=0.0125,\n",
        "    dt=0.0025,\n",
        "    ifirst=1,\n",
        "    ilast=45000,\n",
        "    irestart=0,\n",
        "    icheckpoint=45000,\n",
        "    ioutput=200,\n",
        "    iprocessing=50,\n",
        ")"
      ]
    },
    {
      "cell_type": "markdown",
      "metadata": {
        "id": "MxXHZw_gfHcJ"
      },
      "source": [
        "Pode-se salvar a estrutura de dados em arquivo texto com o comando:"
      ]
    },
    {
      "cell_type": "code",
      "execution_count": 9,
      "metadata": {
        "id": "8hYngEdbfHcK"
      },
      "outputs": [],
      "source": [
        "prm.write()"
      ]
    },
    {
      "cell_type": "markdown",
      "metadata": {
        "id": "VxpwNZWNfHcL"
      },
      "source": [
        "Por último pode-se carregar os parâmetros de um arquivo texto:"
      ]
    },
    {
      "cell_type": "code",
      "execution_count": 10,
      "metadata": {
        "id": "JejXTYRZfHcM"
      },
      "outputs": [],
      "source": [
        "prm = x3d.Parameters(filename=\"example.i3d\")\n",
        "prm.load()"
      ]
    },
    {
      "cell_type": "markdown",
      "metadata": {
        "id": "qGQiC-r9fHcM"
      },
      "source": [
        "A mesma operação pode-se ser feita de uma forma mais concisa:"
      ]
    },
    {
      "cell_type": "code",
      "execution_count": 11,
      "metadata": {
        "id": "2RBWtvWOfHcN"
      },
      "outputs": [],
      "source": [
        "prm = x3d.Parameters(loadfile=\"example.i3d\")"
      ]
    },
    {
      "cell_type": "markdown",
      "metadata": {
        "id": "tKz1RUznfHcO"
      },
      "source": [
        "Também pode-se carregar um arquivo de um formato antigo ([mais informações estão disponíveis nesse link](https://github.com/fschuch/xcompact3d_toolbox/issues/7)):\n",
        "\n",
        "``` python\n",
        "prm = x3d.Parameters(loadfile=\"incompact3d.prm\")\n",
        "```"
      ]
    },
    {
      "cell_type": "markdown",
      "source": [
        "Pode-se instanciar a malha pelo método `get_mesh`."
      ],
      "metadata": {
        "id": "KzHssKRaqt3E"
      }
    },
    {
      "cell_type": "code",
      "execution_count": 12,
      "metadata": {
        "id": "ogFwLXe8fHcP",
        "outputId": "cd998f81-2a9b-4380-c586-69223111f85a",
        "colab": {
          "base_uri": "https://localhost:8080/"
        }
      },
      "outputs": [
        {
          "output_type": "execute_result",
          "data": {
            "text/plain": [
              "{'x': array([ 0.       ,  0.1171875,  0.234375 ,  0.3515625,  0.46875  ,\n",
              "         0.5859375,  0.703125 ,  0.8203125,  0.9375   ,  1.0546875,\n",
              "         1.171875 ,  1.2890625,  1.40625  ,  1.5234375,  1.640625 ,\n",
              "         1.7578125,  1.875    ,  1.9921875,  2.109375 ,  2.2265625,\n",
              "         2.34375  ,  2.4609375,  2.578125 ,  2.6953125,  2.8125   ,\n",
              "         2.9296875,  3.046875 ,  3.1640625,  3.28125  ,  3.3984375,\n",
              "         3.515625 ,  3.6328125,  3.75     ,  3.8671875,  3.984375 ,\n",
              "         4.1015625,  4.21875  ,  4.3359375,  4.453125 ,  4.5703125,\n",
              "         4.6875   ,  4.8046875,  4.921875 ,  5.0390625,  5.15625  ,\n",
              "         5.2734375,  5.390625 ,  5.5078125,  5.625    ,  5.7421875,\n",
              "         5.859375 ,  5.9765625,  6.09375  ,  6.2109375,  6.328125 ,\n",
              "         6.4453125,  6.5625   ,  6.6796875,  6.796875 ,  6.9140625,\n",
              "         7.03125  ,  7.1484375,  7.265625 ,  7.3828125,  7.5      ,\n",
              "         7.6171875,  7.734375 ,  7.8515625,  7.96875  ,  8.0859375,\n",
              "         8.203125 ,  8.3203125,  8.4375   ,  8.5546875,  8.671875 ,\n",
              "         8.7890625,  8.90625  ,  9.0234375,  9.140625 ,  9.2578125,\n",
              "         9.375    ,  9.4921875,  9.609375 ,  9.7265625,  9.84375  ,\n",
              "         9.9609375, 10.078125 , 10.1953125, 10.3125   , 10.4296875,\n",
              "        10.546875 , 10.6640625, 10.78125  , 10.8984375, 11.015625 ,\n",
              "        11.1328125, 11.25     , 11.3671875, 11.484375 , 11.6015625,\n",
              "        11.71875  , 11.8359375, 11.953125 , 12.0703125, 12.1875   ,\n",
              "        12.3046875, 12.421875 , 12.5390625, 12.65625  , 12.7734375,\n",
              "        12.890625 , 13.0078125, 13.125    , 13.2421875, 13.359375 ,\n",
              "        13.4765625, 13.59375  , 13.7109375, 13.828125 , 13.9453125,\n",
              "        14.0625   , 14.1796875, 14.296875 , 14.4140625, 14.53125  ,\n",
              "        14.6484375, 14.765625 , 14.8828125, 15.       ], dtype=float32),\n",
              " 'y': array([ 0.        ,  0.04504655,  0.09029294,  0.13594207,  0.18220428,\n",
              "         0.22930034,  0.27746603,  0.32695502,  0.3780484 ,  0.4310567 ,\n",
              "         0.48632994,  0.5442658 ,  0.60532016,  0.6700244 ,  0.7389975 ,\n",
              "         0.8129757 ,  0.89283013,  0.9796148 ,  1.0746001 ,  1.1793398 ,\n",
              "         1.2957419 ,  1.426162  ,  1.5735211 ,  1.7414374 ,  1.9343703 ,\n",
              "         2.157731  ,  2.417885  ,  2.7218597 ,  3.076467  ,  3.4864438 ,\n",
              "         3.9514093 ,  4.462363  ,  5.        ,  5.537637  ,  6.0485907 ,\n",
              "         6.5135565 ,  6.923533  ,  7.27814   ,  7.5821147 ,  7.842269  ,\n",
              "         8.06563   ,  8.258562  ,  8.426478  ,  8.573838  ,  8.704258  ,\n",
              "         8.820661  ,  8.9254    ,  9.020385  ,  9.10717   ,  9.187024  ,\n",
              "         9.261003  ,  9.329975  ,  9.39468   ,  9.455734  ,  9.51367   ,\n",
              "         9.568943  ,  9.621952  ,  9.673045  ,  9.722534  ,  9.7706995 ,\n",
              "         9.817796  ,  9.864058  ,  9.909707  ,  9.954953  , 10.        ],\n",
              "       dtype=float32),\n",
              " 'z': array([0.     , 0.09375, 0.1875 , 0.28125, 0.375  , 0.46875, 0.5625 ,\n",
              "        0.65625, 0.75   , 0.84375, 0.9375 , 1.03125, 1.125  , 1.21875,\n",
              "        1.3125 , 1.40625, 1.5    , 1.59375, 1.6875 , 1.78125, 1.875  ,\n",
              "        1.96875, 2.0625 , 2.15625, 2.25   , 2.34375, 2.4375 , 2.53125,\n",
              "        2.625  , 2.71875, 2.8125 , 2.90625], dtype=float32)}"
            ]
          },
          "metadata": {},
          "execution_count": 12
        }
      ],
      "source": [
        "prm.get_mesh()"
      ]
    },
    {
      "cell_type": "markdown",
      "metadata": {
        "id": "du4uyfrHfHcQ"
      },
      "source": [
        "## Traitlets\n",
        "\n",
        "### Type-checking\n",
        "\n",
        "All parameters are type-checked, to make sure that they are what `XCompact3d` expects. Use the cellcode below to see how a `TraitError` pops out when we try:\n",
        "\n",
        "```python\n",
        "prm.itype = 10.5\n",
        "prm.itype = -5\n",
        "prm.itype = 20\n",
        "prm.itype = 'sandbox'\n",
        "\n",
        "```\n"
      ]
    },
    {
      "cell_type": "code",
      "execution_count": null,
      "metadata": {
        "id": "IeJVyRh-fHcR"
      },
      "outputs": [],
      "source": []
    },
    {
      "cell_type": "markdown",
      "metadata": {
        "id": "6laKyP0-fHcS"
      },
      "source": [
        "### Validation"
      ]
    },
    {
      "cell_type": "markdown",
      "metadata": {
        "id": "E7FyUKoJfHcS"
      },
      "source": [
        "Some parameters, like mesh points (`nx`, `ny` and `nz`), trigger a validation operation when a new value is attributed to them.\n",
        "Due to restrictions at the FFT library, they must be equal to:\n",
        "\n",
        "$$\n",
        "n_i = \\left\\{ \\begin{array}{ll} 2^{1+a} \\times 3^b \\times 5^c &\\mbox{if periodic,} \\\\ 2^{1+a} \\times 3^b \\times 5^c + 1 &\\mbox{otherwise,}\n",
        "\\end{array} \\right.\n",
        "$$\n",
        "\n",
        "where $a$, $b$ and $c$ are non negative integers. In addition, the derivatives stencil imposes that:\n",
        "\n",
        "$$\n",
        "n_i \\ge \\left\\{ \\begin{array}{ll} 8 &\\mbox{if periodic,} \\\\ 9 &\\mbox{otherwise.}\n",
        "\\end{array} \\right.\n",
        "$$\n",
        "\n",
        "Again, give it a try at the cellcode below:\n",
        "\n",
        "```python\n",
        "prm.nx = 129\n",
        "prm.nx = 4\n",
        "prm.nx = 60\n",
        "prm.nx = 61\n",
        "```"
      ]
    },
    {
      "cell_type": "code",
      "execution_count": null,
      "metadata": {
        "id": "797NHF6CfHcT"
      },
      "outputs": [],
      "source": []
    },
    {
      "cell_type": "markdown",
      "metadata": {
        "id": "U0h1Q8hufHcU"
      },
      "source": [
        "### Observation"
      ]
    },
    {
      "cell_type": "markdown",
      "metadata": {
        "id": "hvkZ5kLJfHcU"
      },
      "source": [
        "Other parameters, like mesh resolution (`dx`, `dy` and `dz`), are automatically updated when any new attribution occurs to mesh points and/or domain size. Let's create a quick print functions to play with:"
      ]
    },
    {
      "cell_type": "code",
      "execution_count": null,
      "metadata": {
        "id": "FoDQju1lfHcV"
      },
      "outputs": [],
      "source": [
        "def show_param():\n",
        "    for var in \"nclx1 nclxn nx xlx dx\".split():\n",
        "        print(f\"{var:>5} = {getattr(prm, var)}\")"
      ]
    },
    {
      "cell_type": "markdown",
      "metadata": {
        "id": "nhJi1WRqfHcV"
      },
      "source": [
        "We are starting with:"
      ]
    },
    {
      "cell_type": "code",
      "execution_count": null,
      "metadata": {
        "id": "G_sMAOOOfHcW"
      },
      "outputs": [],
      "source": [
        "show_param()"
      ]
    },
    {
      "cell_type": "markdown",
      "metadata": {
        "id": "78yCYvi1fHcX"
      },
      "source": [
        "Let's change just the domain's length:"
      ]
    },
    {
      "cell_type": "code",
      "execution_count": null,
      "metadata": {
        "id": "pdc8mi3kfHcX"
      },
      "outputs": [],
      "source": [
        "prm.xlx = 50.0\n",
        "\n",
        "show_param()"
      ]
    },
    {
      "cell_type": "markdown",
      "metadata": {
        "id": "YwntkNKFfHcY"
      },
      "source": [
        "The resolution was updated as well. Now the number of mesh points:"
      ]
    },
    {
      "cell_type": "code",
      "execution_count": null,
      "metadata": {
        "id": "L-NE6xzBfHcZ"
      },
      "outputs": [],
      "source": [
        "prm.nx = 121\n",
        "\n",
        "show_param()"
      ]
    },
    {
      "cell_type": "markdown",
      "metadata": {
        "id": "VRWTwBFyfHcZ"
      },
      "source": [
        "Again, the resolution was updated. Now we set a new mesh resolution, this time, `xlx` will be updated in order to satisfy the new resolution:"
      ]
    },
    {
      "cell_type": "code",
      "execution_count": null,
      "metadata": {
        "id": "LiAVFOBOfHca"
      },
      "outputs": [],
      "source": [
        "prm.dx = 1e-2\n",
        "\n",
        "show_param()"
      ]
    },
    {
      "cell_type": "markdown",
      "metadata": {
        "id": "U-ycHeRTfHcb"
      },
      "source": [
        "Boundary conditions are observed as well. Xcompact3d allows three different BC for velocity:\n",
        "\n",
        "* Periodic `0`;\n",
        "* Free-slip `1`;\n",
        "* Dirichlet `2`.\n",
        "\n",
        "They can be assigned individually for each of the six boundaries:\n",
        "\n",
        "* `nclx1` and `nclxn`, where $x=0$ and $x=xlx$;\n",
        "* `ncly1` and `nclyn`, where $y=0$ and $y=yly$;\n",
        "* `nclz1` and `nclzn`, where $z=0$ and $z=zlz$.\n",
        "\n",
        "It leads to 5 possibilities (`00`, `11`, `12`, `21` and `22`), because both boundary must be periodic, or not, so `0` cannot be combined.\n",
        "\n",
        "Let's check it out, we are starting with:"
      ]
    },
    {
      "cell_type": "code",
      "execution_count": null,
      "metadata": {
        "id": "uicdUHw5fHcb"
      },
      "outputs": [],
      "source": [
        "show_param()"
      ]
    },
    {
      "cell_type": "markdown",
      "metadata": {
        "id": "8bSmG2fofHcc"
      },
      "source": [
        "We will change just one side to periodic (`nclx1 = 0`), for consistence, the other side should be periodic too. Let's see:"
      ]
    },
    {
      "cell_type": "code",
      "execution_count": null,
      "metadata": {
        "id": "zXc1dhU2fHcc"
      },
      "outputs": [],
      "source": [
        "prm.nclx1 = 0\n",
        "\n",
        "show_param()"
      ]
    },
    {
      "cell_type": "markdown",
      "metadata": {
        "id": "OFjm-t-xfHcd"
      },
      "source": [
        "Now free-slip in one side (`nclx1 = 1`), and the other should be non-periodic:"
      ]
    },
    {
      "cell_type": "code",
      "execution_count": null,
      "metadata": {
        "id": "AlHq4ctlfHcd"
      },
      "outputs": [],
      "source": [
        "prm.nclx1 = 1\n",
        "\n",
        "show_param()"
      ]
    },
    {
      "cell_type": "markdown",
      "metadata": {
        "id": "jDqhWmimfHce"
      },
      "source": [
        "Setting the other boundary to periodic:"
      ]
    },
    {
      "cell_type": "code",
      "execution_count": null,
      "metadata": {
        "id": "c_5PpVRtfHce"
      },
      "outputs": [],
      "source": [
        "prm.nclxn = 0\n",
        "\n",
        "show_param()"
      ]
    },
    {
      "cell_type": "markdown",
      "metadata": {
        "id": "bIA-v5ujfHcg"
      },
      "source": [
        "and now back to Dirichlet:"
      ]
    },
    {
      "cell_type": "code",
      "execution_count": null,
      "metadata": {
        "id": "t1RqjbsSfHch"
      },
      "outputs": [],
      "source": [
        "prm.nclxn = 2\n",
        "\n",
        "show_param()"
      ]
    },
    {
      "cell_type": "markdown",
      "metadata": {
        "id": "rLOwX9ZHfHci"
      },
      "source": [
        "This time, free-slip:"
      ]
    },
    {
      "cell_type": "code",
      "execution_count": null,
      "metadata": {
        "id": "rcOsbfEefHci"
      },
      "outputs": [],
      "source": [
        "prm.nclxn = 1\n",
        "\n",
        "show_param()"
      ]
    },
    {
      "cell_type": "markdown",
      "metadata": {
        "id": "nfqxAw_lfHck"
      },
      "source": [
        "There was no need to update `nclx1`, because `1` and `2` can be freely combined. Notice that `nx` was modified properly from 121 to 120 and then back, according to the possible values, `dx` and `xlx` stayed untouched."
      ]
    },
    {
      "cell_type": "markdown",
      "metadata": {
        "id": "LbHFAurpfHck"
      },
      "source": [
        "### Metadata"
      ]
    },
    {
      "cell_type": "markdown",
      "metadata": {
        "id": "pNKO2klVfHcl"
      },
      "source": [
        "Traitlets types constructors have a `tag` method to store metadata in a dictionary. In the case of Xcompact3d-toolbox, two are especially useful:\n",
        "\n",
        "* `group` defines to what namespace a given parameter belongs when the class is written to `.i3d` file (`.write()` method) or read from `.i3d` or `.prm` files (`.load()` method), parameters without a group are ignored for both methods;\n",
        "* `desc` contains a brief description of each parameter that is shown on screen as we saw above, and also printed with the `.write()` method."
      ]
    },
    {
      "cell_type": "markdown",
      "metadata": {
        "id": "QwgX-nMifHcl"
      },
      "source": [
        "### Declaring new parameters"
      ]
    },
    {
      "cell_type": "markdown",
      "metadata": {
        "id": "b-rrVIYMfHcm"
      },
      "source": [
        "You probably would like to add more parameters for your own flow configuration, or because some of them were not implemented yet (it is a work in progress).\n",
        "\n",
        "To do so, any Auxiliary variable can be included after initialization, like:"
      ]
    },
    {
      "cell_type": "code",
      "execution_count": null,
      "metadata": {
        "id": "tTPdQlFPfHcn"
      },
      "outputs": [],
      "source": [
        "prm.my_variable = 0  # or any other datatype"
      ]
    },
    {
      "cell_type": "markdown",
      "metadata": {
        "id": "P_45EHFJfHco"
      },
      "source": [
        "It was called Auxiliary variable because, in this way, it will be available only for the Python application.\n",
        "\n",
        "In order to include it at the `.i3d` file and make it available for XCompact3d, we can create a subclass that inherits all the functionality from `xcompact3d_toolbox.Parameters`:"
      ]
    },
    {
      "cell_type": "code",
      "execution_count": null,
      "metadata": {
        "id": "leyOw8qNfHcp"
      },
      "outputs": [],
      "source": [
        "import traitlets\n",
        "\n",
        "\n",
        "# Create a class named MyParameters, which inherits the properties all properties and methods\n",
        "class MyParameters(x3d.Parameters):\n",
        "    # .tag with group and description guarantees that the new variable will\n",
        "    # be compatible with all functionalities (like .write() and .load())\n",
        "    my_variable = traitlets.Int(default_value=0, min=0).tag(\n",
        "        group=\"BasicParam\", desc=\"An example at the Tutorial <------\"\n",
        "    )\n",
        "\n",
        "    # And a custom method, for instance\n",
        "    def my_method(self):\n",
        "        return self.my_variable * 2\n",
        "\n",
        "\n",
        "prm = MyParameters(nx=257, ny=129, nz=31, my_variable=10)  # and here we go\n",
        "\n",
        "# Testing the method\n",
        "print(prm.my_method())\n",
        "\n",
        "# Show all parameters on screen\n",
        "print(prm)"
      ]
    },
    {
      "cell_type": "markdown",
      "metadata": {
        "id": "AgTe8BmxfHcp"
      },
      "source": [
        "Take a look at the source code of [parameters.py](https://github.com/fschuch/xcompact3d_toolbox/blob/main/xcompact3d_toolbox/parameters.py) if you need more examples for different data types."
      ]
    },
    {
      "cell_type": "markdown",
      "metadata": {
        "id": "J3TWmMPpfHcq"
      },
      "source": [
        "## Graphical User Interface"
      ]
    },
    {
      "cell_type": "markdown",
      "metadata": {
        "id": "vuQyK1zGfHcq"
      },
      "source": [
        "<div class=\"alert alert-info\">\n",
        "\n",
        "For an interactive experience [launch this tutorial on Binder](https://mybinder.org/v2/gh/fschuch/xcompact3d_toolbox/main?labpath=.%2Fdocs%2Ftutorial), the widgets are not so responsive when disconnected from a Python application.\n",
        "\n",
        "</div>"
      ]
    },
    {
      "cell_type": "markdown",
      "metadata": {
        "id": "UoIdP2xtfHcr"
      },
      "source": [
        "To conclude this part of the tutorial, let's see another option to handle the parameters. The class `ParametersGui` is a subclass of `Parameters`, and includes all the features described above. In addition, `ParametersGui` offers an user interface with [IPywidgets](https://ipywidgets.readthedocs.io/en/stable/index.html).\n",
        "\n",
        "It is still under development, more parameters and features are going to be included soon, as well as more widgets.\n",
        "\n",
        "Just like before, we start with:"
      ]
    },
    {
      "cell_type": "code",
      "execution_count": null,
      "metadata": {
        "id": "3kyAPud4fHcs"
      },
      "outputs": [],
      "source": [
        "prm = x3d.ParametersGui()"
      ]
    },
    {
      "cell_type": "markdown",
      "metadata": {
        "id": "OhICwfK-fHcs"
      },
      "source": [
        "Widgets are returned on demand when any instance of `class ParametersGui` is called, let’s see:"
      ]
    },
    {
      "cell_type": "code",
      "execution_count": null,
      "metadata": {
        "id": "0l4SH0mYfHct"
      },
      "outputs": [],
      "source": [
        "prm(\"nx\", \"xlx\", \"dx\", \"nclx1\", \"nclxn\")"
      ]
    },
    {
      "cell_type": "markdown",
      "metadata": {
        "id": "t6VSIWYdfHcu"
      },
      "source": [
        "You can play around with the widgets above and see the effect of the observations made previously.\n",
        "\n",
        "Notice that the [Traitlets](https://traitlets.readthedocs.io/en/stable/index.html) parameters are related to the value at their widgets in a **two-way link**, in this way, a print will show the actual value on the widgets:"
      ]
    },
    {
      "cell_type": "code",
      "execution_count": null,
      "metadata": {
        "id": "a5yHdZ6-fHcu"
      },
      "outputs": [],
      "source": [
        "show_param()"
      ]
    },
    {
      "cell_type": "markdown",
      "metadata": {
        "id": "62tu9H-AfHcv"
      },
      "source": [
        "Give it a try, modify the values at the widgets and print them again.\n",
        "\n",
        "It also works on the other way, set a new value to a parameters will change its widget, try it:"
      ]
    },
    {
      "cell_type": "code",
      "execution_count": null,
      "metadata": {
        "id": "pvwWf6P_fHcw"
      },
      "outputs": [],
      "source": [
        "# prm.nclx1 = 0\n",
        "\n"
      ]
    },
    {
      "cell_type": "markdown",
      "metadata": {
        "id": "J5phv1svfHcx"
      },
      "source": [
        "And of course, different widgets for the same parameter are always synchronized, change the widget below and see what happens with the widget above:"
      ]
    },
    {
      "cell_type": "code",
      "execution_count": null,
      "metadata": {
        "id": "M-eA_SVqfHcx"
      },
      "outputs": [],
      "source": [
        "prm(\"nx\")"
      ]
    },
    {
      "cell_type": "markdown",
      "metadata": {
        "id": "BQZRqMHdfHcy"
      },
      "source": [
        "A last example is about the domain decomposition for parallel computation, Xcompact3d uses [2DECOMP&FFT](http://www.2decomp.org/).\n",
        "The available options for `p_row` and `p_col` are presented as functions of the number of computational cores `ncores`, notice that `p_row * p_col = ncores` should be respected and `p_row * p_col = 0` activates the auto-tunning mode. The widgets are prepared to respect these restrictions:"
      ]
    },
    {
      "cell_type": "code",
      "execution_count": null,
      "metadata": {
        "id": "2qh62wBffHcz"
      },
      "outputs": [],
      "source": [
        "prm(\"ncores\", \"p_row\", \"p_col\")"
      ]
    },
    {
      "cell_type": "markdown",
      "metadata": {
        "id": "XrIQ6KrUfHcz"
      },
      "source": [
        "To conclude this part of the tutorial, let’s see what happens when `class ParametersGui` is presented on screen, hover the mouse over some variable to see its description:"
      ]
    },
    {
      "cell_type": "code",
      "execution_count": null,
      "metadata": {
        "id": "ThuFzmtbfHc0"
      },
      "outputs": [],
      "source": [
        "prm"
      ]
    }
  ],
  "metadata": {
    "interpreter": {
      "hash": "546d5beeb22119d9a20f6c19239ae627cc2b69f70be285d1d696980c89f3c939"
    },
    "kernelspec": {
      "display_name": "Python 3.9.5 64-bit ('idp': conda)",
      "name": "python3"
    },
    "language_info": {
      "codemirror_mode": {
        "name": "ipython",
        "version": 3
      },
      "file_extension": ".py",
      "mimetype": "text/x-python",
      "name": "python",
      "nbconvert_exporter": "python",
      "pygments_lexer": "ipython3",
      "version": "3.12.2"
    },
    "colab": {
      "provenance": []
    }
  },
  "nbformat": 4,
  "nbformat_minor": 0
}