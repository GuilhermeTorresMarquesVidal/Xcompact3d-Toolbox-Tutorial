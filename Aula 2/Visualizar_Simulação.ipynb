{
  "cells": [
    {
      "cell_type": "markdown",
      "source": [
        "# Instalação"
      ],
      "metadata": {
        "id": "SOXs2-fosAXG"
      },
      "id": "SOXs2-fosAXG"
    },
    {
      "cell_type": "code",
      "source": [
        "#!pip install xcompact3d_toolbox"
      ],
      "metadata": {
        "id": "v33stZ8-ED9k"
      },
      "id": "v33stZ8-ED9k",
      "execution_count": null,
      "outputs": []
    },
    {
      "cell_type": "code",
      "source": [
        "#!pip install hvplot"
      ],
      "metadata": {
        "id": "06vvyfQiEJk2"
      },
      "id": "06vvyfQiEJk2",
      "execution_count": null,
      "outputs": []
    },
    {
      "cell_type": "code",
      "source": [
        "#!pip install datashader"
      ],
      "metadata": {
        "id": "HEP_5vV-Eqta"
      },
      "id": "HEP_5vV-Eqta",
      "execution_count": null,
      "outputs": []
    },
    {
      "cell_type": "markdown",
      "source": [
        "# Visualizando e Pós-processando uma Simulação\n",
        "\n",
        "Esse notebook é um tutorial de como carregar e pós-processar os dados gerados pela simulação de um escoamento ao redor de um cilindro.\n",
        "\n",
        "Como primeiro passo se importa as bibliotecas necessárias."
      ],
      "metadata": {
        "id": "_IKQ6XjhsjWi"
      },
      "id": "_IKQ6XjhsjWi"
    },
    {
      "cell_type": "code",
      "execution_count": null,
      "id": "bb8bb5dd",
      "metadata": {
        "id": "bb8bb5dd"
      },
      "outputs": [],
      "source": [
        "import matplotlib.pyplot as plt\n",
        "import numpy as np\n",
        "\n",
        "import xarray as xr\n",
        "import hvplot.xarray\n",
        "import xcompact3d_toolbox as x3d\n",
        "\n",
        "import warnings\n",
        "warnings.filterwarnings('ignore')"
      ]
    },
    {
      "cell_type": "markdown",
      "source": [
        "# Carregando o banco de dados\n",
        "\n",
        "Na linha abaixo são lidos os dados da configuração da simulação."
      ],
      "metadata": {
        "id": "wgAqtnmMt8xc"
      },
      "id": "wgAqtnmMt8xc"
    },
    {
      "cell_type": "code",
      "execution_count": null,
      "id": "b748f343",
      "metadata": {
        "id": "b748f343"
      },
      "outputs": [],
      "source": [
        "prm = x3d.Parameters(loadfile=\"input.i3d\")"
      ]
    },
    {
      "cell_type": "markdown",
      "source": [
        "Visualizando os parâmetros da simulação."
      ],
      "metadata": {
        "id": "vic6SFIbuhEE"
      },
      "id": "vic6SFIbuhEE"
    },
    {
      "cell_type": "code",
      "execution_count": null,
      "id": "69da4f46",
      "metadata": {
        "id": "69da4f46"
      },
      "outputs": [],
      "source": [
        "print(prm)"
      ]
    },
    {
      "cell_type": "markdown",
      "source": [
        "Neste notebook, devido ao tamnho dos dados gerados pela simulação, cerca de 7.7 GB, se trabalhará apenas com um plano no eixo xy.\n",
        "\n",
        "Os dados utilizados nesse notebook foram previamente tratados e salvados no formato netCDF.\n",
        "\n",
        "A linha de código abaixo carrega na memória o contéudo do arquivo cylinder_plane_xy.nc em um xarray.Dataset."
      ],
      "metadata": {
        "id": "dxyDIrJme_z0"
      },
      "id": "dxyDIrJme_z0"
    },
    {
      "cell_type": "code",
      "execution_count": null,
      "id": "a4107777",
      "metadata": {
        "id": "a4107777"
      },
      "outputs": [],
      "source": [
        "ds = xr.open_dataset(\"cylinder_plane_xy.nc\")"
      ]
    },
    {
      "cell_type": "markdown",
      "source": [
        "# Visualizando os dados\n",
        "\n",
        "Na célula abaixo se visualiza o contéudo do xarray.Dataset."
      ],
      "metadata": {
        "id": "eZTlvptTxZjj"
      },
      "id": "eZTlvptTxZjj"
    },
    {
      "cell_type": "code",
      "execution_count": null,
      "id": "21ff54cb",
      "metadata": {
        "id": "21ff54cb"
      },
      "outputs": [],
      "source": [
        "ds"
      ]
    },
    {
      "cell_type": "markdown",
      "source": [
        "Esse banco de dados é composto pelo campo de velocidade para as componentes x e y, ux e uy, o campo de pressão pp e epsilon, representando a geometria.\n",
        "\n",
        "Pode-se visualizar a variável epsilon usando o comando plot."
      ],
      "metadata": {
        "id": "XWbS0KXpxqbF"
      },
      "id": "XWbS0KXpxqbF"
    },
    {
      "cell_type": "code",
      "execution_count": null,
      "id": "e6ce1356",
      "metadata": {
        "id": "e6ce1356"
      },
      "outputs": [],
      "source": [
        "ax = ds.epsilon.plot(x=\"x\", y=\"y\")\n",
        "ax.axes.set_title(\"\")\n",
        "ax.axes.set_aspect('equal');"
      ]
    },
    {
      "cell_type": "markdown",
      "source": [
        "Selecionando um ponto dentro do domínio pode-se acompanhar a variação do campo de velocidade ao longo do tempo.\n",
        "\n",
        "Veja o código abaixo:"
      ],
      "metadata": {
        "id": "PJwouQ0azidC"
      },
      "id": "PJwouQ0azidC"
    },
    {
      "cell_type": "code",
      "execution_count": null,
      "id": "23ce12a8",
      "metadata": {
        "id": "23ce12a8"
      },
      "outputs": [],
      "source": [
        "fig, ax = plt.subplots(figsize = (6,4))\n",
        "\n",
        "# Plot\n",
        "\n",
        "ds.ux.sel(x=10.0, y=5.0, method=\"nearest\").plot(x=\"t\", label = 'ux', ax = ax)\n",
        "ds.uy.sel(x=10.0, y=5.0, method=\"nearest\").plot(x=\"t\", label = 'uy', ax = ax)\n",
        "\n",
        "# Legend\n",
        "\n",
        "ax.legend(loc = 'lower left',frameon = False)\n",
        "\n",
        "# Title\n",
        "\n",
        "ax.set_title(\"\")\n",
        "\n",
        "# Axis labels\n",
        "\n",
        "ax.set_ylabel(\"u\");"
      ]
    },
    {
      "cell_type": "markdown",
      "source": [
        "Utilizando as funcionalidades da biblioteca hvPlot pode-se gerar um gráfico interativo para a variável ux."
      ],
      "metadata": {
        "id": "GE8pDmag0hUV"
      },
      "id": "GE8pDmag0hUV"
    },
    {
      "cell_type": "code",
      "source": [
        "ds.ux.hvplot(x=\"t\", widget_location=\"bottom\")"
      ],
      "metadata": {
        "id": "jh_NOrWKKHrd"
      },
      "id": "jh_NOrWKKHrd",
      "execution_count": null,
      "outputs": []
    },
    {
      "cell_type": "markdown",
      "source": [
        "Pode-se visualizar como as varáveis ux e uy se comportam ao longo do tempo com o comando plot. Usando o método isel pode-se montar o gráfico para o campo de velocidade a cada 20 intervalos de tempo."
      ],
      "metadata": {
        "id": "jHFpZy7u1Cza"
      },
      "id": "jHFpZy7u1Cza"
    },
    {
      "cell_type": "code",
      "execution_count": null,
      "id": "72a05c09",
      "metadata": {
        "id": "72a05c09"
      },
      "outputs": [],
      "source": [
        "# Plot\n",
        "\n",
        "a = ds.ux.isel(t=slice(None,None,20)).plot(x=\"x\", y = \"y\", col = \"t\", cmap = 'turbo', rasterized = True)\n",
        "b = ds.uy.isel(t=slice(None,None,20)).plot(x=\"x\", y = \"y\", col = \"t\", cmap = 'turbo', rasterized = True)\n",
        "\n",
        "# Aspect ratio\n",
        "\n",
        "for ax in a.axes.flat:\n",
        "    ax.axes.set_aspect(\"equal\")\n",
        "for ax in b.axes.flat:\n",
        "    ax.axes.set_aspect(\"equal\")"
      ]
    },
    {
      "cell_type": "markdown",
      "source": [
        "Pode-se montar uma animação para a variável ux com as funcionalidades da biblioteca hvPlot."
      ],
      "metadata": {
        "id": "LMeVw6xC1-SJ"
      },
      "id": "LMeVw6xC1-SJ"
    },
    {
      "cell_type": "code",
      "source": [
        "ds.ux.sel(t=slice(None, None)).hvplot(\n",
        "    x=\"x\",\n",
        "    y=\"y\",\n",
        "    aspect=\"equal\",\n",
        "    clim=(-1.07, 1.66),\n",
        "    rasterize=True,\n",
        "    cmap=\"turbo\",\n",
        "    widget_type=\"scrubber\",\n",
        "    widget_location=\"bottom\",\n",
        "    title=\"Escoamento ao redor de um cilindro\",\n",
        ")"
      ],
      "metadata": {
        "id": "4SU10Mj2LR-H"
      },
      "id": "4SU10Mj2LR-H",
      "execution_count": null,
      "outputs": []
    },
    {
      "cell_type": "markdown",
      "source": [
        "# Pós-processamento\n",
        "\n",
        "Nesta seção do notebook, se explorará as capacidados do toolbox no pós-processamento dos resultados. Como exemplo se calculou a vorticidade $\\omega_z$ definida pela equação:\n",
        "\n",
        "$$\n",
        "\\omega_z = \\dfrac{\\partial u_y}{\\partial x}  - \\dfrac{\\partial u_x}{\\partial y}.\n",
        "$$\n",
        "\n",
        "Antes de se aplicar a derivada parcial, defini-se a condição de contorno para para o campo de velocidade"
      ],
      "metadata": {
        "id": "E-QY86f82a7b"
      },
      "id": "E-QY86f82a7b"
    },
    {
      "cell_type": "code",
      "source": [
        "ds[\"ux\"].attrs[\"BC\"] = prm.get_boundary_condition(\"u\")\n",
        "ds[\"uy\"].attrs[\"BC\"] = prm.get_boundary_condition(\"u\")"
      ],
      "metadata": {
        "id": "yh04kLtviyiS"
      },
      "id": "yh04kLtviyiS",
      "execution_count": null,
      "outputs": []
    },
    {
      "cell_type": "markdown",
      "source": [
        "Na próxima célula se calcula as derivadas parciais utilizando um esquema de quarta ordem."
      ],
      "metadata": {
        "id": "TaXYSL7qEHTd"
      },
      "id": "TaXYSL7qEHTd"
    },
    {
      "cell_type": "code",
      "source": [
        "ds[\"vort\"] = ds.uy.x3d.first_derivative(\"x\") - ds.ux.x3d.first_derivative(\"y\")"
      ],
      "metadata": {
        "id": "3iI0Ex-cj4It"
      },
      "id": "3iI0Ex-cj4It",
      "execution_count": null,
      "outputs": []
    },
    {
      "cell_type": "markdown",
      "source": [
        "Pode-se adicionar os atributos da variável recem calculada da forma:"
      ],
      "metadata": {
        "id": "WytdeOEEEg8Q"
      },
      "id": "WytdeOEEEg8Q"
    },
    {
      "cell_type": "code",
      "source": [
        "ds[\"vort\"].attrs = {\"name\": \"wz\", \"long_name\": \"Vorticidade\", \"units\": \"-\"}"
      ],
      "metadata": {
        "id": "3r3KOyyTkuVA"
      },
      "id": "3r3KOyyTkuVA",
      "execution_count": null,
      "outputs": []
    },
    {
      "cell_type": "markdown",
      "source": [
        "Agora pode-se montar os gráficos da vorticidade no plano xy ao longo do tempo."
      ],
      "metadata": {
        "id": "Of8pdPJPE-bE"
      },
      "id": "Of8pdPJPE-bE"
    },
    {
      "cell_type": "code",
      "source": [
        "g = ds.vort.isel(t=slice(None, None, 10)).plot(\n",
        "    x=\"x\", y=\"y\", col=\"t\", col_wrap=6, cmap=\"turbo\", rasterized=True, robust=True\n",
        ")\n",
        "for ax in g.axes.flat:\n",
        "    ax.axes.set_aspect(\"equal\")"
      ],
      "metadata": {
        "id": "mkM_Bm1flDm3"
      },
      "id": "mkM_Bm1flDm3",
      "execution_count": null,
      "outputs": []
    },
    {
      "cell_type": "markdown",
      "source": [
        "Por fim, pode-se fazer uma animação para visualizar a vorticidade."
      ],
      "metadata": {
        "id": "tpLBLVndGab2"
      },
      "id": "tpLBLVndGab2"
    },
    {
      "cell_type": "code",
      "source": [
        "ds.vort.sel(t=slice(None, None)).hvplot(\n",
        "    x=\"x\",\n",
        "    y=\"y\",\n",
        "    aspect=\"equal\",\n",
        "    clim=(-2.5, 2.5),\n",
        "    rasterize=True,\n",
        "    cmap=\"turbo\",\n",
        "    widget_type=\"scrubber\",\n",
        "    widget_location=\"bottom\",\n",
        "    title=\"Escoamento ao redor de um cilindro\",\n",
        ")"
      ],
      "metadata": {
        "id": "u21b2ikkp1c4"
      },
      "id": "u21b2ikkp1c4",
      "execution_count": null,
      "outputs": []
    },
    {
      "cell_type": "code",
      "source": [],
      "metadata": {
        "id": "TXczvH01oAml"
      },
      "id": "TXczvH01oAml",
      "execution_count": null,
      "outputs": []
    }
  ],
  "metadata": {
    "kernelspec": {
      "display_name": "Python 3 (ipykernel)",
      "language": "python",
      "name": "python3"
    },
    "language_info": {
      "codemirror_mode": {
        "name": "ipython",
        "version": 3
      },
      "file_extension": ".py",
      "mimetype": "text/x-python",
      "name": "python",
      "nbconvert_exporter": "python",
      "pygments_lexer": "ipython3",
      "version": "3.11.5"
    },
    "colab": {
      "provenance": []
    }
  },
  "nbformat": 4,
  "nbformat_minor": 5
}