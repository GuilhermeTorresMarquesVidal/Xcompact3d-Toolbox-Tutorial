{
  "cells": [
    {
      "cell_type": "markdown",
      "source": [
        "# Instalação"
      ],
      "metadata": {
        "id": "kjmSM_5RklWH"
      }
    },
    {
      "cell_type": "code",
      "source": [
        "!pip install xcompact3d_toolbox"
      ],
      "metadata": {
        "id": "6tM1fbhxkqt0"
      },
      "execution_count": null,
      "outputs": []
    },
    {
      "cell_type": "markdown",
      "metadata": {
        "id": "nqoLT59EkK9P"
      },
      "source": [
        "# Escoamento ao longo de um corpo complexo"
      ]
    },
    {
      "cell_type": "code",
      "execution_count": null,
      "metadata": {
        "id": "2Qrcc-tKkK9Q"
      },
      "outputs": [],
      "source": [
        "import matplotlib.pyplot as plt\n",
        "import numpy as np\n",
        "import xarray as xr\n",
        "\n",
        "import xcompact3d_toolbox as x3d"
      ]
    },
    {
      "cell_type": "markdown",
      "metadata": {
        "id": "DXtPPK3HkK9Q"
      },
      "source": [
        "## Parâmetros"
      ]
    },
    {
      "cell_type": "markdown",
      "metadata": {
        "id": "er66Lg1VkK9R"
      },
      "source": [
        "+ Precisão numérico\n",
        "\n",
        "Se Xcompact3d foi compilada com a flag `-DDOUBLE_PREC` deve se usar `np.float64`, para os outros casos deve-se usar `np.float32`."
      ]
    },
    {
      "cell_type": "code",
      "execution_count": null,
      "metadata": {
        "id": "HytFKu3ZkK9R"
      },
      "outputs": [],
      "source": [
        "x3d.param[\"mytype\"] = np.float64"
      ]
    },
    {
      "cell_type": "markdown",
      "metadata": {
        "id": "wYaxTCh2kK9R"
      },
      "source": [
        "* Xcompact3d's parâmetros\n",
        "\n",
        "Para mais informações veja [API reference](https://docs.fschuch.com/xcompact3d_toolbox/references/api-reference.html#xcompact3d_toolbox.parameters.Parameters)."
      ]
    },
    {
      "cell_type": "code",
      "execution_count": null,
      "metadata": {
        "id": "RDrcIzU0kK9R"
      },
      "outputs": [],
      "source": [
        "prm = x3d.Parameters(\n",
        "    filename=\"input.i3d\",\n",
        "    itype=12,\n",
        "    p_row=0,\n",
        "    p_col=0,\n",
        "    nx=257,\n",
        "    ny=129,\n",
        "    nz=32,\n",
        "    xlx=15.0,\n",
        "    yly=10.0,\n",
        "    zlz=3.0,\n",
        "    nclx1=2,\n",
        "    nclxn=2,\n",
        "    ncly1=1,\n",
        "    nclyn=1,\n",
        "    nclz1=0,\n",
        "    nclzn=0,\n",
        "    iin=1,\n",
        "    re=300.0,\n",
        "    init_noise=0.0125,\n",
        "    inflow_noise=0.0125,\n",
        "    dt=0.0025,\n",
        "    ifirst=1,\n",
        "    ilast=45000,\n",
        "    ilesmod=1,\n",
        "    iibm=2,\n",
        "    nu0nu=4.0,\n",
        "    cnu=0.44,\n",
        "    irestart=0,\n",
        "    icheckpoint=45000,\n",
        "    ioutput=200,\n",
        "    iprocessing=50,\n",
        "    jles=4,\n",
        ")"
      ]
    },
    {
      "cell_type": "markdown",
      "metadata": {
        "id": "iA6RnNPbkK9R"
      },
      "source": [
        "## Configuração"
      ]
    },
    {
      "cell_type": "markdown",
      "metadata": {
        "id": "gDSF6kVskK9R"
      },
      "source": [
        "### Geométria"
      ]
    },
    {
      "cell_type": "markdown",
      "metadata": {
        "id": "zfbxqDankK9S"
      },
      "source": [
        "Todo o que se precisa é de um dicionário de Arrays (veja [API reference](https://docs.fschuch.com/xcompact3d_toolbox/references/api-reference.html#xcompact3d_toolbox.sandbox.init_epsi)):"
      ]
    },
    {
      "cell_type": "code",
      "execution_count": null,
      "metadata": {
        "id": "IeE_0NWPkK9S"
      },
      "outputs": [],
      "source": [
        "epsi = x3d.init_epsi(prm)"
      ]
    },
    {
      "cell_type": "markdown",
      "metadata": {
        "id": "fv4fZ0UxkK9S"
      },
      "source": [
        "As quatro matrizes $\\epsilon$ são salvas em um dicionário:"
      ]
    },
    {
      "cell_type": "code",
      "execution_count": null,
      "metadata": {
        "id": "Jf6zggoNkK9S"
      },
      "outputs": [],
      "source": [
        "epsi.keys()"
      ]
    },
    {
      "cell_type": "markdown",
      "metadata": {
        "id": "hcArPpppkK9S"
      },
      "source": [
        "Como exemplo, será desenhado e graficado um cilindro. Para fazer um gráfico, `xarray.DataArray` é mais simples com `da.plot()`. Por exemplo, para selecionar um valor em $z$ e fazer um gráfico 2D:"
      ]
    },
    {
      "cell_type": "code",
      "execution_count": null,
      "metadata": {
        "id": "DBZnoMwXkK9S"
      },
      "outputs": [],
      "source": [
        "for key in epsi:\n",
        "    epsi[key] = epsi[key].geo.cylinder(x=1, y=prm.yly / 4.0)\n",
        "\n",
        "epsi[\"epsi\"].sel(z=0, method=\"nearest\").plot(x=\"x\");"
      ]
    },
    {
      "cell_type": "markdown",
      "metadata": {
        "id": "bQ1luYB7kK9S"
      },
      "source": [
        "Observa-se que as geometrias são adicionadas por padrão, todavia, ela pode ser revertida definindo `remp=False`. Vários métodos podem ser executados em cadeia, resultando em uma geometria mais complexa."
      ]
    },
    {
      "cell_type": "code",
      "execution_count": null,
      "metadata": {
        "id": "iqm_DibmkK9S"
      },
      "outputs": [],
      "source": [
        "for key in epsi:\n",
        "    epsi[key] = (\n",
        "        epsi[key]\n",
        "        .geo.cylinder(x=2, y=prm.yly / 8.0)\n",
        "        .geo.cylinder(x=2, y=prm.yly / 8.0, radius=0.25, remp=False)\n",
        "        .geo.sphere(x=6, y=prm.yly / 4, z=prm.zlz / 2.0)\n",
        "        .geo.box(x=[3, 4], y=[3, 4])\n",
        "    )\n",
        "\n",
        "epsi[\"epsi\"].sel(z=prm.zlz / 2, method=\"nearest\").plot(x=\"x\");"
      ]
    },
    {
      "cell_type": "markdown",
      "metadata": {
        "id": "5xluVmRCkK9T"
      },
      "source": [
        "Outro exemplo é o corpo de Ahmed:"
      ]
    },
    {
      "cell_type": "code",
      "execution_count": null,
      "metadata": {
        "id": "i0xaHPmOkK9T"
      },
      "outputs": [],
      "source": [
        "for key in epsi:\n",
        "    epsi[key] = epsi[key].geo.ahmed_body(x=10, wheels=False)\n",
        "\n",
        "epsi[\"epsi\"].sel(z=prm.zlz / 2, method=\"nearest\").plot(x=\"x\");"
      ]
    },
    {
      "cell_type": "markdown",
      "metadata": {
        "id": "O-kVWexmkK9T"
      },
      "source": [
        "Fazendo um zoom no gráfico:"
      ]
    },
    {
      "cell_type": "code",
      "execution_count": null,
      "metadata": {
        "id": "4bnJ4EnokK9T"
      },
      "outputs": [],
      "source": [
        "epsi[\"epsi\"].sel(x=slice(8, None), y=slice(None, 4)).sel(z=prm.zlz / 2, method=\"nearest\").plot(x=\"x\");"
      ]
    },
    {
      "cell_type": "markdown",
      "metadata": {
        "id": "FaSb55cCkK9T"
      },
      "source": [
        "Também pode-se espelha-lo:"
      ]
    },
    {
      "cell_type": "code",
      "execution_count": null,
      "metadata": {
        "id": "adqn2Gi2kK9T"
      },
      "outputs": [],
      "source": [
        "for key in epsi:\n",
        "    epsi[key] = epsi[key].geo.mirror(\"y\")\n",
        "\n",
        "epsi[\"epsi\"].sel(z=prm.zlz / 2, method=\"nearest\").plot(x=\"x\");"
      ]
    },
    {
      "cell_type": "markdown",
      "metadata": {
        "id": "wKjwTx7okK9T"
      },
      "source": [
        "Para uma descrição completa das geometrias avaliadas, veja a [referência da Api](https://docs.fschuch.com/xcompact3d_toolbox/references/api-reference.html#xcompact3d_toolbox.sandbox.Geometry). Observe que se pode combinar diferentes rotinas para criar geometrias ou rotinas únicas para seus objetos.\n",
        "\n",
        "Começando com uma geometria simples:"
      ]
    },
    {
      "cell_type": "code",
      "execution_count": null,
      "metadata": {
        "id": "iYmQdpCTkK9T"
      },
      "outputs": [],
      "source": [
        "epsi = x3d.sandbox.init_epsi(prm)\n",
        "\n",
        "for key in epsi:\n",
        "    epsi[key] = epsi[key].geo.cylinder(x=prm.xlx / 3, y=prm.yly / 2)\n",
        "\n",
        "epsi[\"epsi\"].sel(z=0, method=\"nearest\").plot(x=\"x\")\n",
        "plt.show();"
      ]
    },
    {
      "cell_type": "markdown",
      "metadata": {
        "id": "05SLKXYOkK9T"
      },
      "source": [
        "O próximo passo é criar os arquivos auxiliares descrevendo as geometrias, para que o Xcompact3d possa lê-lo."
      ]
    },
    {
      "cell_type": "code",
      "execution_count": null,
      "metadata": {
        "id": "Yt04Ex_ekK9T"
      },
      "outputs": [],
      "source": [
        "%%time\n",
        "dataset = x3d.gene_epsi_3d(epsi, prm)\n",
        "\n",
        "prm.nobjmax = dataset.obj.size\n",
        "\n",
        "dataset"
      ]
    },
    {
      "cell_type": "markdown",
      "metadata": {
        "id": "lbk0o22UkK9T"
      },
      "source": [
        "### Condições de contorno"
      ]
    },
    {
      "cell_type": "markdown",
      "metadata": {
        "id": "XRfyKVdakK9U"
      },
      "source": [
        "Tudo que se precisa é de um Dataset (veja a [referência da API](https://docs.fschuch.com/xcompact3d_toolbox/references/api-reference.html#xcompact3d_toolbox.sandbox.init_dataset)):"
      ]
    },
    {
      "cell_type": "code",
      "execution_count": null,
      "metadata": {
        "id": "flWg4b6ykK9U"
      },
      "outputs": [],
      "source": [
        "ds = x3d.init_dataset(prm)"
      ]
    },
    {
      "cell_type": "markdown",
      "metadata": {
        "id": "i4Rr5rmxkK9U"
      },
      "source": [
        "Com dados e atributos definidos, pode-se inspecioná-los pelos ícones:"
      ]
    },
    {
      "cell_type": "code",
      "execution_count": null,
      "metadata": {
        "id": "R2W3n2p6kK9U"
      },
      "outputs": [],
      "source": [
        "ds"
      ]
    },
    {
      "cell_type": "markdown",
      "metadata": {
        "id": "LKtBW6ZvkK9U"
      },
      "source": [
        "**Perfil de entrada**: Como as condições de contorno para a velocidade no topo e fundo do domínio são de deslizamento-livre (`ncly1=nclyn=1`), o perfil de entrada é definido com 1 em todos os pontos."
      ]
    },
    {
      "cell_type": "code",
      "execution_count": null,
      "metadata": {
        "id": "rr7huRLnkK9U"
      },
      "outputs": [],
      "source": [
        "fun = xr.ones_like(ds.y)\n",
        "\n",
        "# This attribute will be shown in the figure\n",
        "fun.attrs[\"long_name\"] = r\"Inflow Profile - f($x_2$)\"\n",
        "\n",
        "fun.plot();"
      ]
    },
    {
      "cell_type": "markdown",
      "metadata": {
        "id": "OP12q3XJkK9U"
      },
      "source": [
        "Reiniciando o plano de entrada `ds[key] *= 0.0`, só para garantir consistência em múltiplas execuções dessa célula. Observe que `ds[key] = 0.0` pode-se reescrever todos os metadados contidos no array; por isso, deve-se evitá-lo. Na célula a baixo, adicionou-se o perfil de entrada e montou-se o gráfico como referência:"
      ]
    },
    {
      "cell_type": "code",
      "execution_count": null,
      "metadata": {
        "id": "wp-xqj_qkK9U"
      },
      "outputs": [],
      "source": [
        "for key in \"bxx1 bxy1 bxz1\".split():\n",
        "    #\n",
        "    print(ds[key].attrs[\"name\"])\n",
        "    #\n",
        "    ds[key] *= 0.0\n",
        "    #\n",
        "    if key == \"bxx1\":\n",
        "        ds[key] += fun\n",
        "    #\n",
        "    ds[key].plot()\n",
        "    plt.show()\n",
        "\n",
        "plt.close(\"all\")"
      ]
    },
    {
      "cell_type": "markdown",
      "metadata": {
        "id": "WxQ4SVYykK9U"
      },
      "source": [
        "Um ruído branco será aplicado no perfil de entrada, pode-se usar uma função de modulação `mod` para controlar onde ele será aplicado. Neste caso, o ruído ficará concentrado na região central e definiu-se o valor de 0 em $y=0$ e $y=L_y$. O domínio é periódico em $z$ (`nclz1=nclzn=0`). A função fica como:\n",
        "\n",
        "$$\n",
        "\\text{mod} = \\exp\\left(-0.2 (y - 0.5 L_y)^2 \\right).\n",
        "$$\n",
        "\n",
        "Veja o código:"
      ]
    },
    {
      "cell_type": "code",
      "execution_count": null,
      "metadata": {
        "id": "wTZ3NLbmkK9U"
      },
      "outputs": [],
      "source": [
        "# Ruído branco para uma semente fixado,\n",
        "# importante para reprodução, desenvolvimento e debugging\n",
        "if prm.iin == 2:\n",
        "    np.random.seed(seed=67)\n",
        "\n",
        "mod = np.exp(-0.2 * (ds.y - ds.y[-1] * 0.5) ** 2.0)\n",
        "\n",
        "# Esse atributo será mostrado na figura\n",
        "mod.attrs[\"long_name\"] = \"Noise modulation\"\n",
        "\n",
        "mod.plot();"
      ]
    },
    {
      "cell_type": "markdown",
      "metadata": {
        "id": "NsCqatyGkK9U"
      },
      "source": [
        "Novamente, reiniciando o array `ds['noise_mod_x1'] *= 0.0`. Observe que `ds['noise_mod_x1'] *= 0.0` pode reescrever todos os metadados contidos dentro do array; por isso, deve ser evitado. Então, adicionou-se um perfil de modulação para o array e montou-se um gráfico como referência:"
      ]
    },
    {
      "cell_type": "code",
      "execution_count": null,
      "metadata": {
        "id": "ZJVbGiuwkK9U"
      },
      "outputs": [],
      "source": [
        "ds[\"noise_mod_x1\"] *= 0.0\n",
        "ds[\"noise_mod_x1\"] += mod\n",
        "ds.noise_mod_x1.plot();"
      ]
    },
    {
      "cell_type": "markdown",
      "metadata": {
        "id": "nkGfs64KkK9U"
      },
      "source": [
        "Observe que uma das vantagens de usar [xarray](http://docs.xarray.dev/en/stable), `mod`, com um número de pontos (`ny`), sendo automaticamente transmitida para todos os pontos em `z` em `ds.noise_mod_x1`, com tamanho (`ny`, `nz`)."
      ]
    },
    {
      "cell_type": "markdown",
      "metadata": {
        "id": "F6J3cFIwkK9U"
      },
      "source": [
        "### Condição inicial"
      ]
    },
    {
      "cell_type": "markdown",
      "metadata": {
        "id": "Rhqj-WD2kK9V"
      },
      "source": [
        "Primeiramente, se reinicia o campo de velocidade com `ds[key] *= 0.0`.\n",
        "\n",
        "Adicionando um ruído branco, multiplica-se a amplitude do ruído pela condição inicial `init_noise` e multiplica-se novamente pela função de modulação `mod`, definida previamente. Por fim, adiciona-se o perfil de fluxo contínuo `fun` em `ux` e se montam os gráficos como referência:"
      ]
    },
    {
      "cell_type": "code",
      "execution_count": null,
      "metadata": {
        "id": "In-FIB2rkK9V"
      },
      "outputs": [],
      "source": [
        "for key in \"ux uy uz\".split():\n",
        "    #\n",
        "    print(ds[key].attrs[\"name\"])\n",
        "    #\n",
        "    ds[key] *= 0.0\n",
        "    ds[key] += prm.init_noise * (np.random.random(ds[key].shape) - 0.5)\n",
        "    ds[key] *= mod\n",
        "    #\n",
        "    if key == \"ux\":\n",
        "        ds[key] += fun\n",
        "    #\n",
        "    ds[key].sel(z=slice(None, None, ds.z.size // 3)).plot(x=\"x\", y=\"y\", col=\"z\", col_wrap=2)\n",
        "    plt.show()\n",
        "    #\n",
        "\n",
        "plt.close(\"all\")"
      ]
    },
    {
      "cell_type": "markdown",
      "metadata": {
        "id": "kNM-uluWkK9V"
      },
      "source": [
        "## Salvando no disco\n",
        "\n",
        "Pode ser feito simplesmente com:"
      ]
    },
    {
      "cell_type": "code",
      "execution_count": null,
      "metadata": {
        "id": "geKVlu0NkK9V"
      },
      "outputs": [],
      "source": [
        "prm.dataset.write(ds)"
      ]
    },
    {
      "cell_type": "code",
      "execution_count": null,
      "metadata": {
        "id": "Vi30TMaDkK9V"
      },
      "outputs": [],
      "source": [
        "prm.write()"
      ]
    },
    {
      "cell_type": "markdown",
      "metadata": {
        "id": "c1o2ePxkkK9V"
      },
      "source": [
        "## Rodando a simulação"
      ]
    },
    {
      "cell_type": "markdown",
      "metadata": {
        "id": "nUjOvsj6kK9V"
      },
      "source": [
        "O objetivo desse notebook é mostrar as ferramentas do `xcompact3d_toolbox.sandbox`. No entanto, não esqueça a estabilidade numérica do solver numérico, **é responsabilidade do usuário achar o conjunto certo de parâmetros físico e numérico**.\n",
        "\n",
        "Verifique se as flags e opções de compilação no `Makefile` estão conforme o esperado. Então, compile o código com o comando `make`.\n",
        "\n",
        "Finalmente, entre com a seguinte linha com o comando:\n",
        "\n",
        "```bash\n",
        "mpirun -n [number of cores] ./xcompact3d |tee log.out\n",
        "```"
      ]
    }
  ],
  "metadata": {
    "interpreter": {
      "hash": "546d5beeb22119d9a20f6c19239ae627cc2b69f70be285d1d696980c89f3c939"
    },
    "kernelspec": {
      "display_name": "Python 3.9.5 64-bit ('idp': conda)",
      "name": "python3"
    },
    "language_info": {
      "codemirror_mode": {
        "name": "ipython",
        "version": 3
      },
      "file_extension": ".py",
      "mimetype": "text/x-python",
      "name": "python",
      "nbconvert_exporter": "python",
      "pygments_lexer": "ipython3",
      "version": "3.9.5"
    },
    "colab": {
      "provenance": []
    }
  },
  "nbformat": 4,
  "nbformat_minor": 0
}